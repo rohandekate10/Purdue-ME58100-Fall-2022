{
 "cells": [
  {
   "cell_type": "markdown",
   "metadata": {
    "collapsed": true
   },
   "source": [
    "# Sample ME581 Homework Solution [PYTHON]"
   ]
  },
  {
   "cell_type": "markdown",
   "metadata": {},
   "source": [
    "The example homework problem is briefly presented and considered. The solution is determined in a step-by-step manner following Example 2.1 on page 59 of the textbook and is followed by a coded solution following the algorithm on page 65 of the textbook. The solution is then verified.\n",
    "\n",
    "The example problem consists of applying four iterations of the bisection method to determine an estimate for the root of the function $f(x)=x^{3}+2x^{2}-3x-1$ on the interval (1,2).\n",
    "\n",
    "For reference, the function $f(x)=x^{3}+2x^{2}-3x-1$ is plotted across the interval (1,2) to illustrate the function and its root in that range:"
   ]
  },
  {
   "cell_type": "code",
   "execution_count": 1,
   "metadata": {
    "ExecuteTime": {
     "end_time": "2023-11-07T15:40:55.151062Z",
     "start_time": "2023-11-07T15:40:54.426210Z"
    }
   },
   "outputs": [
    {
     "data": {
      "image/png": "[encoded data removed]",
      "text/plain": [
       "<Figure size 432x288 with 1 Axes>"
      ]
     },
     "metadata": {
      "needs_background": "light"
     },
     "output_type": "display_data"
    }
   ],
   "source": [
    "# Necessary modules are imported\n",
    "import matplotlib.pyplot as plt \n",
    "import numpy as np\n",
    "import matplotlib.patches as mpatches\n",
    "\n",
    "# An array 'x' is created to store 101 linearly-spaced\n",
    "# numbers spanning the range 1 to 2.\n",
    "x= np.linspace(1,2,101)\n",
    "\n",
    "# The function is evaluated at those 101 points and\n",
    "# is stored in an array 'f'.\n",
    "f= x**3+(2*(x**2))-3*x-1\n",
    "\n",
    "# The function f(x) is illustrated in the range x=(1,2) by\n",
    "# plotting the array 'f' against the array 'x'.\n",
    "# The function f(x) and a line through y=0 are plotted\n",
    "plt.plot(x,f,'r')\n",
    "\n",
    "# Axes and a legend are added\n",
    "red_patch = mpatches.Patch(color='red',label='f(x)=x^3+2*x^2-3*x-1')\n",
    "plt.legend(handles=[red_patch])\n",
    "plt.xlabel('x')\n",
    "plt.ylabel('f(x)')\n",
    "plt.grid(True)\n",
    "plt.show()"
   ]
  },
  {
   "cell_type": "markdown",
   "metadata": {},
   "source": [
    "It is evident from the graph that the function f(x) has a zero f(x)=0 around x=1.2."
   ]
  },
  {
   "cell_type": "markdown",
   "metadata": {},
   "source": [
    "## Step-By-Step Solution"
   ]
  },
  {
   "cell_type": "markdown",
   "metadata": {},
   "source": [
    "The root is known to lie within the interval $(1,2)$.\n",
    "\n",
    "The initial extremes $a_{1}$ and $a_{2}$ of the interval are, as given, $(a_{1},b_{1})=(1,2)$.\n",
    "\n",
    "The function is evaluated at these extremes, and it is seen that $f(a_{1}<0$ and that $f(b_{1})>0$."
   ]
  },
  {
   "cell_type": "code",
   "execution_count": 2,
   "metadata": {
    "ExecuteTime": {
     "end_time": "2023-11-07T15:40:55.159379Z",
     "start_time": "2023-11-07T15:40:55.153601Z"
    }
   },
   "outputs": [
    {
     "name": "stdout",
     "output_type": "stream",
     "text": [
      "f(a1) = -1.000000000e+00\n",
      "f(b1) = 9.000000000e+00\n"
     ]
    }
   ],
   "source": [
    "# A function called 'f' is defined. This\n",
    "# function will evaluate an input and return the evaluated\n",
    "# value of the given function f(x)=x^3+2*x^2-3*x-1.\n",
    "# This may be used, for example, in the manner \"a1=f(1)\" or\n",
    "# \"b1=f(2)\". This function will remain available in any\n",
    "# further line of this notebook.\n",
    "def f(x):\n",
    "    var=x**3.0+(2.0*(x**2.0))-3.0*x-1.0\n",
    "    return var\n",
    "\n",
    "# The first extremes a1 and b2 of the interval are defined.\n",
    "a1 = 1\n",
    "b1 = 2\n",
    "\n",
    "# The function f(x) is evaluated at the extremes a1=1 and\n",
    "# b1=2 and stored as fa1 and fb1.\n",
    "fa1 = f(a1)\n",
    "fb1 = f(b1)\n",
    "\n",
    "# These values are printed to the screen in an exponential\n",
    "# format 'e' with a set 'field width' of 10 digits and\n",
    "# with 9 digits following the decimal point.\n",
    "print(\"f(a1) = {0:10.9e}\".format(fa1))\n",
    "print(\"f(b1) = {0:10.9e}\".format(fb1))"
   ]
  },
  {
   "cell_type": "code",
   "execution_count": 3,
   "metadata": {
    "ExecuteTime": {
     "end_time": "2023-11-07T15:40:55.948632Z",
     "start_time": "2023-11-07T15:40:55.162057Z"
    }
   },
   "outputs": [
    {
     "data": {
      "text/plain": [
       "[-2.9122291784844 + 0.e-21*I,\n",
       " -0.2864620650316 + 0.e-20*I,\n",
       " 1.198691243516 - 0.e-22*I]"
      ]
     },
     "execution_count": 3,
     "metadata": {},
     "output_type": "execute_result"
    }
   ],
   "source": [
    "# Compute actual root\n",
    "from sympy.solvers import solve\n",
    "from sympy import Symbol\n",
    "x = Symbol('x')\n",
    "solve(x**3.0+(2.0*(x**2.0))-3.0*x-1.0, x)"
   ]
  },
  {
   "cell_type": "markdown",
   "metadata": {},
   "source": [
    "As stated, it is seen that $f(a_{1}<0$ and that $f(b_{1})>0$.\n",
    "\n",
    "The midpoint of this interval $(a_{1},b_{1})=(1,2)$ is the first approximation $p_{1}$ of the root's value, and is calculated:"
   ]
  },
  {
   "cell_type": "code",
   "execution_count": 4,
   "metadata": {
    "ExecuteTime": {
     "end_time": "2023-11-07T15:40:55.956092Z",
     "start_time": "2023-11-07T15:40:55.951008Z"
    }
   },
   "outputs": [
    {
     "name": "stdout",
     "output_type": "stream",
     "text": [
      "Root Estimate #1: p1 = 1.500000000e+00\n"
     ]
    },
    {
     "data": {
      "text/plain": [
       "0.30000000000000004"
      ]
     },
     "execution_count": 4,
     "metadata": {},
     "output_type": "execute_result"
    }
   ],
   "source": [
    "# The midpoint of the interval (a1,b1)=(1,2) is calculated\n",
    "# and stored as 'p1', the first approximation of the root.\n",
    "p1 = (a1+b1) / 2.0\n",
    "\n",
    "# The calculated root estimate 'p1' is printed out.\n",
    "print(\"Root Estimate #1: p1 = {0:10.9e}\".format(p1))\n",
    "\n",
    "# Calculate error\n",
    "P = 1.2 # From graph\n",
    "abs_error1 = abs(P-p1)\n",
    "abs_error1"
   ]
  },
  {
   "cell_type": "markdown",
   "metadata": {},
   "source": [
    "To determine whether the root is contained in the interval $(a_{1},p_{1})=(1,1.5)$ or in the interval $(p_{1},b_{1})=(1.5,2)$, the function is evaluated at the midpoint $p_{1}$."
   ]
  },
  {
   "cell_type": "code",
   "execution_count": 5,
   "metadata": {
    "ExecuteTime": {
     "end_time": "2023-11-07T15:40:55.964227Z",
     "start_time": "2023-11-07T15:40:55.957902Z"
    }
   },
   "outputs": [
    {
     "name": "stdout",
     "output_type": "stream",
     "text": [
      "f(p1) = 2.375000000e+00\n"
     ]
    }
   ],
   "source": [
    "# The function f(x) is evaluated at p1=1.5 and stored as 'fp1'.\n",
    "fp1 = f(p1)\n",
    "\n",
    "# The evaluated value f(p1)=f(1.5) is printed out.\n",
    "print(\"f(p1) = {0:10.9e}\".format(fp1))"
   ]
  },
  {
   "cell_type": "markdown",
   "metadata": {},
   "source": [
    "The value $f(p_{1})$ is seen to be greater than zero.\n",
    "\n",
    "Because $f(a_{1})=-1$ and $f(p_{1})=2.375$ are of opposite signs (+/-), the Intermediate Value Theorem guarantees that the root is between $a_{1}=1$ and $p_{1}=1.5$.\n",
    "\n",
    "For the next iteration, we will take $(a_{2},b_{2})=(a_{1},p_{1})=(1,1.5)$ as the new interval in which the root is known to lie.\n",
    "\n",
    "The midpoint of this interval is our second approximation of the root, and is calculated."
   ]
  },
  {
   "cell_type": "code",
   "execution_count": 6,
   "metadata": {
    "ExecuteTime": {
     "end_time": "2023-11-07T15:40:55.971221Z",
     "start_time": "2023-11-07T15:40:55.966110Z"
    }
   },
   "outputs": [
    {
     "name": "stdout",
     "output_type": "stream",
     "text": [
      "Root Estimate #2: p2 = 1.250000000e+00\n"
     ]
    }
   ],
   "source": [
    "# The new interval extremes a2 and b2 are defined\n",
    "a2 = a1 # a2 is 1\n",
    "b2 = p1 # b2 is 1.5\n",
    "\n",
    "# The second approximation of the root is calculated.\n",
    "p2 = (a2+b2) / 2.0\n",
    "\n",
    "# The calculated root estimate 'p2' is printed out.\n",
    "print(\"Root Estimate #2: p2 = {0:10.9e}\".format(p2))"
   ]
  },
  {
   "cell_type": "markdown",
   "metadata": {},
   "source": [
    "The function $f(x)$ is evaluated at the new midpoint $p_{2}$."
   ]
  },
  {
   "cell_type": "code",
   "execution_count": 7,
   "metadata": {
    "ExecuteTime": {
     "end_time": "2023-11-07T15:40:55.979421Z",
     "start_time": "2023-11-07T15:40:55.972765Z"
    }
   },
   "outputs": [
    {
     "name": "stdout",
     "output_type": "stream",
     "text": [
      "f(p2) = 3.281250000e-01\n"
     ]
    }
   ],
   "source": [
    "# The function f(x) is evaluated at p2=1.25 and stored as 'fp2'.\n",
    "fp2 = f(p2)\n",
    "\n",
    "# The evaluated value f(p2)=f(1.25) is printed out.\n",
    "print(\"f(p2) = {0:10.9e}\".format(fp2))"
   ]
  },
  {
   "cell_type": "markdown",
   "metadata": {},
   "source": [
    "The value $f(p_{2})$ is seen to be greater than zero.\n",
    "\n",
    "Because $f(a_{2})=f(a_{1})=-1$ and $f(p_{2})$ are of opposite signs, the Intermediate Value Theorem guarantees that the root is between $a_{2}=1$ and $p_{1}=1.25$.\n",
    "\n",
    "For the next iteration, we will take $(a_{3},b_{3})=(a_{2},p_{2})=(1,1.25)$ as the new interval in which the root is known to lie.\n",
    "\n",
    "The midpoint of this interval is our third approximation of the root, and is calculated."
   ]
  },
  {
   "cell_type": "code",
   "execution_count": 8,
   "metadata": {
    "ExecuteTime": {
     "end_time": "2023-11-07T15:40:55.985451Z",
     "start_time": "2023-11-07T15:40:55.982231Z"
    }
   },
   "outputs": [
    {
     "name": "stdout",
     "output_type": "stream",
     "text": [
      "Root Estimate #3: p3 = 1.125000000e+00\n"
     ]
    }
   ],
   "source": [
    "# The new interval extremes a3 and b3 are defined\n",
    "a3 = a2 # a3 is 1\n",
    "b3 = p2 # b3 is 1.25\n",
    "\n",
    "# The third approximation of the root is calculated.\n",
    "p3 = (a3+b3) / 2.0\n",
    "\n",
    "# The calculated root estimate 'p3' is printed out.\n",
    "print(\"Root Estimate #3: p3 = {0:10.9e}\".format(p3))"
   ]
  },
  {
   "cell_type": "markdown",
   "metadata": {},
   "source": [
    "The function $f(x)$ is evaluated at the new midpoint $p_{3}$."
   ]
  },
  {
   "cell_type": "code",
   "execution_count": 9,
   "metadata": {
    "ExecuteTime": {
     "end_time": "2023-11-07T15:40:55.993482Z",
     "start_time": "2023-11-07T15:40:55.987667Z"
    }
   },
   "outputs": [
    {
     "name": "stdout",
     "output_type": "stream",
     "text": [
      "f(p3) = -4.199218750e-01\n"
     ]
    }
   ],
   "source": [
    "# The function f(x) is evaluated at p3=1.125 and stored as 'fp3'.\n",
    "fp3 = f(p3)\n",
    "\n",
    "# The evaluated value f(p3)=f(1.125) is printed out.\n",
    "print(\"f(p3) = {0:10.9e}\".format(fp3))"
   ]
  },
  {
   "cell_type": "markdown",
   "metadata": {},
   "source": [
    "The value $f(p_{3})$ is seen to be less than zero.\n",
    "\n",
    "Because $f(a_{3})=f(a_{2})=f(a_{1})=-1$ and $f(p_{3})$ have the same sign, the Intermediate Value Theorem guarantees that the root is between $p_{3}=1.125$ and $b_{3}=1.25$.\n",
    "\n",
    "For the next iteration, we will take $(a_{4},b_{4})=(p_{3},b_{3})=(1.125,1.25)$ as the new interval in which the root is known to lie.\n",
    "\n",
    "The midpoint of this interval is our fourth approximation of the root, and is calculated."
   ]
  },
  {
   "cell_type": "code",
   "execution_count": 10,
   "metadata": {
    "ExecuteTime": {
     "end_time": "2023-11-07T15:40:56.000880Z",
     "start_time": "2023-11-07T15:40:55.995452Z"
    }
   },
   "outputs": [
    {
     "name": "stdout",
     "output_type": "stream",
     "text": [
      "Root Estimate #4: p4 = 1.187500000e+00\n"
     ]
    }
   ],
   "source": [
    "# The new interval extremes a4 and b4 are defined\n",
    "a4 = p3 # a4 is 1.125\n",
    "b4 = b3 # b4 is 1.25\n",
    "\n",
    "# The fourth approximation of the root is calculated.\n",
    "p4 = (a4+b4) / 2.0\n",
    "\n",
    "# The calculated root estimate 'p4' is printed out.\n",
    "print(\"Root Estimate #4: p4 = {0:10.9e}\".format(p4))"
   ]
  },
  {
   "cell_type": "markdown",
   "metadata": {},
   "source": [
    "## Bisection Algorithm"
   ]
  },
  {
   "cell_type": "code",
   "execution_count": 11,
   "metadata": {
    "ExecuteTime": {
     "end_time": "2023-11-07T15:40:56.019311Z",
     "start_time": "2023-11-07T15:40:56.002879Z"
    }
   },
   "outputs": [
    {
     "name": "stdout",
     "output_type": "stream",
     "text": [
      "**Example ME581 Homework Printout**\n",
      "\n",
      "The Bisection Method is applied to calculate\n",
      "an estimate of the root p of the function\n",
      "f(x)=x^3+2*x^2-3*x-1 in the range (1,2):\n",
      "\n",
      "ii is:  0\n",
      "Root Estimate #1: p(1) = 1.500000000e+00\n",
      "Absolute Error is: nan\n",
      "\n",
      "ii is:  1\n",
      "Root Estimate #2: p(2) = 1.250000000e+00\n",
      "Absolute Error is: 0.30000000000000004\n",
      "\n",
      "ii is:  2\n",
      "Root Estimate #3: p(3) = 1.125000000e+00\n",
      "Absolute Error is: 0.050000000000000044\n",
      "\n",
      "ii is:  3\n",
      "Root Estimate #4: p(4) = 1.187500000e+00\n",
      "Absolute Error is: 0.07499999999999996\n",
      "\n",
      "ii is:  4\n",
      "Root Estimate #5: p(5) = 1.218750000e+00\n",
      "Absolute Error is: 0.012499999999999956\n",
      "\n",
      "ii is:  5\n",
      "Root Estimate #6: p(6) = 1.203125000e+00\n",
      "Absolute Error is: 0.018750000000000044\n",
      "\n",
      "ii is:  6\n",
      "Root Estimate #7: p(7) = 1.195312500e+00\n",
      "Absolute Error is: 0.0031250000000000444\n",
      "\n",
      "ii is:  7\n",
      "Root Estimate #8: p(8) = 1.199218750e+00\n",
      "Absolute Error is: 0.004687499999999956\n",
      "\n",
      "ii is:  8\n",
      "Root Estimate #9: p(9) = 1.197265625e+00\n",
      "Absolute Error is: 0.0007812499999999556\n",
      "\n",
      "ii is:  9\n",
      "Root Estimate #10: p(10) =             1.198242188e+00\n",
      "Absolute Error is: 0.0027343749999999556\n",
      "\n",
      "The convergence tolerance has been met.\n"
     ]
    }
   ],
   "source": [
    "# This script applies the Bisection Method to\n",
    "# determine the zero of the function\n",
    "# f(x)=x^3+2*x^2-3*x-1 in the range (1,2).\n",
    "\n",
    "# An Introduction is printed\n",
    "print('**Example ME581 Homework Printout**\\n');\n",
    "print('The Bisection Method is applied to calculate')\n",
    "print('an estimate of the root ''p'' of the function');\n",
    "print('f(x)=x^3+2*x^2-3*x-1 in the range (1,2):\\n');\n",
    "\n",
    "# Given: The function 'f' is redefined here and\n",
    "# may be used in the manner f(1)=-1.\n",
    "def f(x):\n",
    "    var=x**3.0+(2.0*(x**2.0))-3.0*x-1.0\n",
    "    return var\n",
    "\n",
    "# The left- and right-endpoints of the initial interval are\n",
    "# defined as 'a' and 'b'.\n",
    "a = 1\n",
    "b = 2\n",
    "P = 1.2\n",
    "\n",
    "# A convergence tolerance 'epsilon' is chosen and defined.\n",
    "epsilon = 0.001\n",
    "\n",
    "# A maximum number of iterations is chosen and defined.\n",
    "# This will be used to exit the script if the maximum\n",
    "# number of iterations is exceeded.\n",
    "Nmax = 20\n",
    "\n",
    "# An Nmax-by-1 array of NaNs (Not-a-Number) is created to\n",
    "# store the approximations 'p(ii)' for each iteration 'ii'\n",
    "p = np.zeros(Nmax)\n",
    "p.fill(np.nan)\n",
    "\n",
    "# An index is created to keep track of the iteration number.\n",
    "ii = 1\n",
    "\n",
    "# The sign of the function f(x) at the latest value of the\n",
    "# lower extreme 'a' is calculated and saved as 'sfa'.\n",
    "# 'a' is the current value of the lower bound,'f()' evaluates\n",
    "# the function 'f' at that value, and 'sign' calculates the\n",
    "# sign of that value.\n",
    "sfa = np.sign( f( a ) )\n",
    "\n",
    "# A 'for' loop is created.\n",
    "# For index ii ranging from 0, in increments of 1, up to the\n",
    "# maximum number of iterations minus one (Nmax-1),\n",
    "for ii in range(0,Nmax):\n",
    "    print ('ii is: ',ii)\n",
    "    def absolute_error(p_n,p):\n",
    "        abs_err = abs(p_n-p)\n",
    "        print(f'Absolute Error is: {abs_err}')\n",
    "        return\n",
    "    \n",
    "    def error_bound(abs_err,a,b,i):\n",
    "        theo_err = (b-a)/2**i\n",
    "        print(f'Theoretical Error is: {theo_err}')\n",
    "        if abs_err <= (b-a)/2**i:\n",
    "            print('Error Bounds Satisfied!')\n",
    "        else:\n",
    "            print('Error Bound Unsatisfied!')\n",
    "    \n",
    "   # The new approximation 'p(ii)' to the root is\n",
    "   # calculated as the midpoint of the interval and\n",
    "   # is stored in the array 'p'.\n",
    "    p[ii] = a + (b-a)/2\n",
    "   \n",
    "   # If the interval b-a is less than twice the tolerance\n",
    "   # 'epsilon', then the convergence tolerance has been met,\n",
    "    if ( (b-a) < (2*epsilon) ):\n",
    "      \n",
    "      # in which case the final estimate of the root is printed,\n",
    "      # (Note that a line break '\\' is used here inside the \n",
    "      # parentheses of the function 'print' and the following\n",
    "      # line is indented, so that the code when printed will not\n",
    "      # extend off the page.)\n",
    "        print(\"Root Estimate #{0:d}: p({1:d}) = \\\n",
    "            {2:10.9e}\".format(ii+1,ii+1,p[ii]))\n",
    "\n",
    "        abs_err = absolute_error(P,p[ii-1])\n",
    "        #print(f'Absolute Error is {abs_err}')\n",
    "        #error_bound(abs_err,a,b,ii)\n",
    "        print('')\n",
    "      \n",
    "      # and a message is printed to state that the convergence\n",
    "      # tolerance has been met.\n",
    "        print(\"The convergence tolerance has been met.\")\n",
    "      \n",
    "      # and the 'for' loop is exited\n",
    "        break\n",
    "   \n",
    "   # The value of the current root estimate is printed.\n",
    "    print(\"Root Estimate #{0:d}: p({1:d}) = {2:10.9e}\".format(ii+1,ii+1,p[ii]))\n",
    "    \n",
    "    abs_err = absolute_error(P,p[ii-1])\n",
    "    #print(f'Actual Error is {abs_err}')\n",
    "    #error_bound(abs_err,a,b,ii)\n",
    "    print('')\n",
    "   \n",
    "   # Save the sign of f(p) as 'sfp'\n",
    "    sfp = np.sign( f( p[ii] ) );\n",
    "   \n",
    "   # If the product of the two signs is less than zero,\n",
    "    if ( (sfa*sfp) < 0.0 ):\n",
    "      \n",
    "      # then the signs of sfa and sfp are different and the new\n",
    "      # interval will be (a,p), so the current 'p' becomes the new 'b'.\n",
    "      b = p[ii]\n",
    "      \n",
    "   # otherwise (if the product of the two signs is not less than zero,)\n",
    "    else:\n",
    "      \n",
    "      # the new interval will be (p,b), so the value of the current\n",
    "      # 'p' becomes the new 'a'.\n",
    "      a = p[ii]\n",
    "      \n",
    "      # and the sign of the current 'p', sfp, becomes the new sign of\n",
    "      # the new 'a', 'sfa'.\n",
    "      sfa = sfp\n",
    "\n",
    "# Noting that 'range(0,Nmax)' will iterate ii from 0 to Nmax-1,\n",
    "# The maximum number of iterations will be met when ii=Nmax-1.\n",
    "# If the maximum number of iterations has been met,\n",
    "if (ii >= (Nmax-1)):\n",
    "   \n",
    "   # A message is printed.\n",
    "   print(\"The maximum number of {0:1.1i} iterations \\\n",
    "         has been met.\".format(Nmax))"
   ]
  },
  {
   "cell_type": "code",
   "execution_count": 12,
   "metadata": {
    "ExecuteTime": {
     "end_time": "2023-11-07T15:40:56.024632Z",
     "start_time": "2023-11-07T15:40:56.021561Z"
    }
   },
   "outputs": [
    {
     "data": {
      "text/plain": [
       "1"
      ]
     },
     "execution_count": 12,
     "metadata": {},
     "output_type": "execute_result"
    }
   ],
   "source": [
    "j = [1,2,3,4,5]\n",
    "j[1-1]"
   ]
  },
  {
   "cell_type": "markdown",
   "metadata": {},
   "source": [
    "It is noted that the fourth estimate of the root is $p_{4}=1.1875$, as above."
   ]
  },
  {
   "cell_type": "markdown",
   "metadata": {},
   "source": [
    "## Verification"
   ]
  },
  {
   "cell_type": "markdown",
   "metadata": {},
   "source": [
    "The solution $p_{4}=1.1875$ is close to the graphically estimated solution of 1.2.\n",
    "\n",
    "The function is evaluated at the estimated root $p_{4}$ and is seen to be close to zero."
   ]
  },
  {
   "cell_type": "code",
   "execution_count": 13,
   "metadata": {
    "ExecuteTime": {
     "end_time": "2023-11-07T15:40:56.031637Z",
     "start_time": "2023-11-07T15:40:56.026177Z"
    }
   },
   "outputs": [
    {
     "name": "stdout",
     "output_type": "stream",
     "text": [
      "f(p4) = -6.762695312e-02\n"
     ]
    }
   ],
   "source": [
    "# Print the value of the function f(x) for x equal to the\n",
    "# estimated root p4, which is stored in p[3].\n",
    "# Recall that the elements of 'p' are p[0], p[1], p[2], p[3]...\n",
    "print(\"f(p4) = {0:10.9e}\".format(f(p[3])))"
   ]
  }
 ],
 "metadata": {
  "kernelspec": {
   "display_name": "Python 3.8",
   "language": "python",
   "name": "python3"
  },
  "language_info": {
   "codemirror_mode": {
    "name": "ipython",
    "version": 3
   },
   "file_extension": ".py",
   "mimetype": "text/x-python",
   "name": "python",
   "nbconvert_exporter": "python",
   "pygments_lexer": "ipython3",
   "version": "3.8.10"
  },
  "toc": {
   "base_numbering": 1,
   "nav_menu": {},
   "number_sections": true,
   "sideBar": true,
   "skip_h1_title": false,
   "title_cell": "Table of Contents",
   "title_sidebar": "Contents",
   "toc_cell": false,
   "toc_position": {},
   "toc_section_display": true,
   "toc_window_display": false
  },
  "varInspector": {
   "cols": {
    "lenName": 16,
    "lenType": 16,
    "lenVar": 40
   },
   "kernels_config": {
    "python": {
     "delete_cmd_postfix": "",
     "delete_cmd_prefix": "del ",
     "library": "var_list.py",
     "varRefreshCmd": "print(var_dic_list())"
    },
    "r": {
     "delete_cmd_postfix": ") ",
     "delete_cmd_prefix": "rm(",
     "library": "var_list.r",
     "varRefreshCmd": "cat(var_dic_list()) "
    }
   },
   "types_to_exclude": [
    "module",
    "function",
    "builtin_function_or_method",
    "instance",
    "_Feature"
   ],
   "window_display": false
  }
 },
 "nbformat": 4,
 "nbformat_minor": 2
}
