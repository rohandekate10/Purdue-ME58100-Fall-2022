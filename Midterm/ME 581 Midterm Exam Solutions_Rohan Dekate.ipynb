{
 "cells": [
  {
   "cell_type": "markdown",
   "id": "4a2916a5",
   "metadata": {},
   "source": [
    "# Problem 1\n",
    "\n",
    "## (a)"
   ]
  },
  {
   "cell_type": "code",
   "execution_count": 1,
   "id": "4d5cbe7f",
   "metadata": {},
   "outputs": [
    {
     "data": {
      "text/latex": [
       "$\\displaystyle 4 x^{4} + 11.5 x^{3} + 7.5 x^{2} + 1.125 x + 3$"
      ],
      "text/plain": [
       "4*x**4 + 11.5*x**3 + 7.5*x**2 + 1.125*x + 3"
      ]
     },
     "execution_count": 1,
     "metadata": {},
     "output_type": "execute_result"
    }
   ],
   "source": [
    "import numpy as np\n",
    "import pandas as pd\n",
    "\n",
    "from sympy import *\n",
    "x = symbols('x')\n",
    "\n",
    "# Encode the equation in a function\n",
    "def f(x):\n",
    "    return 4*x**4 + (23/2)*x**3 + (15/2)*x**2 + (9/8)*x + 3\n",
    "\n",
    "# Encode derivative for the equation in a function\n",
    "def df1(x):\n",
    "    return 16*x**3+(1/2)*(69*x**2+30*x)+(9/8)\n",
    "    #return diff(f(x), x)\n",
    "\n",
    "# Display the function\n",
    "f(x)"
   ]
  },
  {
   "cell_type": "code",
   "execution_count": 2,
   "id": "4b4ef49b",
   "metadata": {},
   "outputs": [
    {
     "data": {
      "text/plain": [
       "array([-1.77072866+0.j      , -1.38360568+0.j      ,\n",
       "        0.13966717+0.535366j,  0.13966717-0.535366j])"
      ]
     },
     "execution_count": 2,
     "metadata": {},
     "output_type": "execute_result"
    }
   ],
   "source": [
    "# Find the roots of the given polynomial using built-in solver\n",
    "coeff = [4,11.5,7.5,1.125,3]\n",
    "np.roots(coeff)"
   ]
  },
  {
   "cell_type": "markdown",
   "id": "d4038776",
   "metadata": {},
   "source": [
    "* There are 4 roots to the polynomial but only 2 are real."
   ]
  },
  {
   "cell_type": "markdown",
   "id": "a35b00eb",
   "metadata": {},
   "source": [
    "### Plot $f(x)$ and identify the number of local maxima and minima in the interval $[-2,1]$"
   ]
  },
  {
   "cell_type": "code",
   "execution_count": 3,
   "id": "6be465e7",
   "metadata": {},
   "outputs": [
    {
     "data": {
      "image/png": "[encoded data removed]",
      "text/plain": [
       "<Figure size 432x288 with 1 Axes>"
      ]
     },
     "metadata": {
      "needs_background": "light"
     },
     "output_type": "display_data"
    }
   ],
   "source": [
    "import matplotlib.pyplot as plt\n",
    "%matplotlib inline\n",
    "\n",
    "# Actual Roots (only for indicating the location of real roots)\n",
    "P1 = -1.77072866\n",
    "P2 = -1.38360568\n",
    "\n",
    "# Plot the graph of the function and indicate the real roots\n",
    "x = np.arange(-2, 1, 0.1)\n",
    "#x = np.arange(-2, 2, 0.1)\n",
    "y = f(x)  \n",
    "plt.plot(x, y, label = r'$4x^4 + \\frac{23}{2}x^3 + \\frac{15}{2}x^2 + \\frac{9}{8}x + 3$')\n",
    "plt.plot(P1, f(P1), label = 'First Real Root', marker = '*', c='r')\n",
    "plt.plot(P2, f(P2), label = 'Second Real Root', marker = 'o', c='g')\n",
    "plt.title(r'Plot of $f(x) = 4x^4 + \\frac{23}{2}x^3 + \\frac{15}{2}x^2 + \\frac{9}{8}x + 3$')\n",
    "plt.xlabel('x')\n",
    "plt.ylabel('f(x)')\n",
    "plt.legend()\n",
    "plt.grid(True) \n",
    "plt.show()   "
   ]
  },
  {
   "cell_type": "code",
   "execution_count": 4,
   "id": "b623b1c1",
   "metadata": {},
   "outputs": [
    {
     "data": {
      "text/plain": [
       "-1.2398292170701097e-08"
      ]
     },
     "execution_count": 4,
     "metadata": {},
     "output_type": "execute_result"
    }
   ],
   "source": [
    "# Evaluate maxima/minima for the first root\n",
    "extremum1 = f(-1.77072866)\n",
    "extremum1"
   ]
  },
  {
   "cell_type": "code",
   "execution_count": 5,
   "id": "e62875a2",
   "metadata": {},
   "outputs": [
    {
     "data": {
      "text/plain": [
       "-9.209720097658192e-09"
      ]
     },
     "execution_count": 5,
     "metadata": {},
     "output_type": "execute_result"
    }
   ],
   "source": [
    "# Evaluate maxima/minima for the second root\n",
    "extremum2 = f(-1.38360568)\n",
    "extremum2"
   ]
  },
  {
   "cell_type": "code",
   "execution_count": 6,
   "id": "dfde42ba",
   "metadata": {},
   "outputs": [
    {
     "data": {
      "text/plain": [
       "False"
      ]
     },
     "execution_count": 6,
     "metadata": {},
     "output_type": "execute_result"
    }
   ],
   "source": [
    "# Identify maxima and minima\n",
    "extremum1>extremum2"
   ]
  },
  {
   "cell_type": "markdown",
   "id": "b1943604",
   "metadata": {},
   "source": [
    "* There is **one local minima ($-2 \\leq x \\leq -1.5$)** and **one local maxima ($-1.5 \\leq x \\leq -1$)** in the interval $[-2,1]$."
   ]
  },
  {
   "cell_type": "markdown",
   "id": "fcb7f377",
   "metadata": {},
   "source": [
    "---\n",
    "\n",
    "$\\pagebreak$"
   ]
  },
  {
   "cell_type": "markdown",
   "id": "690bac4a",
   "metadata": {},
   "source": [
    "## (b)"
   ]
  },
  {
   "cell_type": "code",
   "execution_count": 7,
   "id": "fd880ac0",
   "metadata": {},
   "outputs": [],
   "source": [
    "# Define Newton's Method Function for Approximating the root\n",
    "def newton(f,fp,po,Nmax=100,eps=1e-6):\n",
    "    def g(x,f,fp):\n",
    "        gx = x - f(x)/fp(x)\n",
    "        return(gx)\n",
    "    \n",
    "    pn = np.zeros(Nmax+1)\n",
    "    pn.fill(np.nan)\n",
    "    pn[0] = po\n",
    "    \n",
    "    for ii in range(1,Nmax+1):\n",
    "        pn[ii] = g(pn[ii-1],f,fp)\n",
    "        if ( abs( pn[ii]-pn[ii-1] ) < eps ):\n",
    "            print(\"The convergence tolerance has been met\")\n",
    "            print(\"after {0:d} iterations\".format(ii))\n",
    "            pn = pn[~np.isnan(pn)]\n",
    "            return(pn)\n",
    "    print(\"The convergence tolerance has not been met\")\n",
    "    print(\"after Nmax = {0:d} iterations\".format(Nmax))\n",
    "    return(pn)"
   ]
  },
  {
   "cell_type": "markdown",
   "id": "116d6891",
   "metadata": {},
   "source": [
    "### Approximate First Root using Newton's Method"
   ]
  },
  {
   "cell_type": "code",
   "execution_count": 8,
   "id": "a8d4d8e8",
   "metadata": {},
   "outputs": [
    {
     "name": "stdout",
     "output_type": "stream",
     "text": [
      "The convergence tolerance has been met\n",
      "after 6 iterations\n",
      "\n",
      "Approximations of the Root p:\n",
      "Iteration 0: Approximated Root#(0) = -2.00000000e+00\n",
      "Iteration 1: Approximated Root#(1) = -1.85430464e+00\n",
      "Iteration 2: Approximated Root#(2) = -1.78774996e+00\n",
      "Iteration 3: Approximated Root#(3) = -1.77166959e+00\n",
      "Iteration 4: Approximated Root#(4) = -1.77073179e+00\n",
      "Iteration 5: Approximated Root#(5) = -1.77072866e+00\n",
      "Iteration 6: Approximated Root#(6) = -1.77072866e+00\n"
     ]
    }
   ],
   "source": [
    "#x0 = -10\n",
    "x0 = -2 # Initial Estimate\n",
    "approx_roots1 = newton(f,df1,x0)\n",
    "\n",
    "print(\"\\nApproximations of the Root p:\")\n",
    "\n",
    "for ii in range(0,len(approx_roots1)):\n",
    "    print(\"Iteration {0:d}: Approximated Root#({1:d}) = {2:9.8e}\"\\\n",
    "          .format(ii,ii,approx_roots1[ii]))"
   ]
  },
  {
   "cell_type": "markdown",
   "id": "0bc7e47c",
   "metadata": {},
   "source": [
    "* This root is the local minima!"
   ]
  },
  {
   "cell_type": "markdown",
   "id": "25880219",
   "metadata": {},
   "source": [
    "### Approximate Second Root using Newton's Method"
   ]
  },
  {
   "cell_type": "code",
   "execution_count": 9,
   "id": "7c51727d",
   "metadata": {},
   "outputs": [
    {
     "name": "stdout",
     "output_type": "stream",
     "text": [
      "The convergence tolerance has been met\n",
      "after 4 iterations\n",
      "\n",
      "Approximations of the Root p:\n",
      "Iteration 0: Approximated Root#(0) = -1.00000000e+00\n",
      "Iteration 1: Approximated Root#(1) = -1.40540541e+00\n",
      "Iteration 2: Approximated Root#(2) = -1.38282721e+00\n",
      "Iteration 3: Approximated Root#(3) = -1.38360482e+00\n",
      "Iteration 4: Approximated Root#(4) = -1.38360568e+00\n"
     ]
    }
   ],
   "source": [
    "#x0 = 10\n",
    "x0 = -1\n",
    "approx_roots2 = newton(f,df1,x0)\n",
    "\n",
    "print(\"\\nApproximations of the Root p:\")\n",
    "\n",
    "for ii in range(0,len(approx_roots2)):\n",
    "    print(\"Iteration {0:d}: Approximated Root#({1:d}) = {2:9.8e}\"\\\n",
    "          .format(ii,ii,approx_roots2[ii]))"
   ]
  },
  {
   "cell_type": "markdown",
   "id": "9e3a8bd2",
   "metadata": {},
   "source": [
    "* This root is the local maxima!"
   ]
  },
  {
   "cell_type": "code",
   "execution_count": 10,
   "id": "ca61805a",
   "metadata": {},
   "outputs": [
    {
     "data": {
      "image/png": "[encoded data removed]",
      "text/plain": [
       "<Figure size 432x288 with 1 Axes>"
      ]
     },
     "metadata": {
      "needs_background": "light"
     },
     "output_type": "display_data"
    }
   ],
   "source": [
    "# Plot the approximations\n",
    "#t = np.arange(-10, 10, 0.1)  \n",
    "t = np.arange(-3, 3, 0.1)  \n",
    "s = f(t) \n",
    "plt.plot(t, s)\n",
    "plt.plot(t, s, label = r'$4x^4 + \\frac{23}{2}x^3 + \\frac{15}{2}x^2 + \\frac{9}{8}x + 3$') \n",
    "\n",
    "#r1_1 = np.array(r1)\n",
    "plt.plot(approx_roots1, f(approx_roots1), label = 'First Root Approximations', marker = '*', c='r')\n",
    "\n",
    "#r2_1 = np.array(r2)\n",
    "plt.plot(approx_roots2, f(approx_roots2), label = 'Second Root Approximations', marker = 'o', c='g')\n",
    "\n",
    "plt.title(r'Approximations for the Roots of $4x^4 + \\frac{23}{2}x^3 + \\frac{15}{2}x^2 + \\frac{9}{8}x + 3$')\n",
    "plt.xlabel('x')\n",
    "plt.ylabel('f(x)')\n",
    "plt.legend()\n",
    "plt.grid(True)\n",
    "plt.show()"
   ]
  },
  {
   "cell_type": "markdown",
   "id": "fe8b8ad1",
   "metadata": {},
   "source": [
    "---\n",
    "$\\pagebreak$"
   ]
  },
  {
   "cell_type": "markdown",
   "id": "960addba",
   "metadata": {},
   "source": [
    "## (c)\n",
    "\n",
    "### Error vs Iteration Plot for First Root/Local Minima"
   ]
  },
  {
   "cell_type": "code",
   "execution_count": 11,
   "id": "9608fe1b",
   "metadata": {},
   "outputs": [
    {
     "data": {
      "text/plain": [
       "[0.14569536423841067,\n",
       " 0.06655467532019954,\n",
       " 0.0160803702107859,\n",
       " 0.0009377981799256752,\n",
       " 3.1299817606633695e-06,\n",
       " 3.481659405224491e-11]"
      ]
     },
     "execution_count": 11,
     "metadata": {},
     "output_type": "execute_result"
    }
   ],
   "source": [
    "error1 = []\n",
    "\n",
    "for r in range(len(approx_roots1)-1):\n",
    "    err = np.abs(approx_roots1[r+1] - approx_roots1[r])\n",
    "    error1.append(err)\n",
    "\n",
    "error1"
   ]
  },
  {
   "cell_type": "code",
   "execution_count": 12,
   "id": "ef1e07f6",
   "metadata": {},
   "outputs": [
    {
     "data": {
      "text/plain": [
       "Text(0, 0.5, 'Absolute Error')"
      ]
     },
     "execution_count": 12,
     "metadata": {},
     "output_type": "execute_result"
    },
    {
     "data": {
      "image/png": "[encoded data removed]",
      "text/plain": [
       "<Figure size 432x288 with 1 Axes>"
      ]
     },
     "metadata": {
      "needs_background": "light"
     },
     "output_type": "display_data"
    }
   ],
   "source": [
    "iteration = range(1,len(error1)+1)\n",
    "\n",
    "plt.plot(iteration,error1, '--o', label = 'Absolute Error')\n",
    "plt.grid()\n",
    "plt.title('Plot of Absolute Error vs Iteration Number for First Approximated Root')\n",
    "plt.legend()\n",
    "plt.xlabel('Iteration Number')\n",
    "plt.ylabel('Absolute Error')"
   ]
  },
  {
   "cell_type": "markdown",
   "id": "7ff23248",
   "metadata": {},
   "source": [
    "### Error vs Iteration Plot for Second Root/Local Maxima"
   ]
  },
  {
   "cell_type": "code",
   "execution_count": 13,
   "id": "1e48771e",
   "metadata": {},
   "outputs": [
    {
     "data": {
      "text/plain": [
       "[0.4054054054054055,\n",
       " 0.022578197494681485,\n",
       " 0.0007776169309468006,\n",
       " 8.528759058989976e-07]"
      ]
     },
     "execution_count": 13,
     "metadata": {},
     "output_type": "execute_result"
    }
   ],
   "source": [
    "error2 = []\n",
    "\n",
    "for r in range(len(approx_roots2)-1):\n",
    "    err = np.abs(approx_roots2[r+1] - approx_roots2[r])\n",
    "    error2.append(err)\n",
    "\n",
    "error2"
   ]
  },
  {
   "cell_type": "code",
   "execution_count": 14,
   "id": "c0232fdc",
   "metadata": {},
   "outputs": [
    {
     "data": {
      "text/plain": [
       "Text(0, 0.5, 'Absolute Error')"
      ]
     },
     "execution_count": 14,
     "metadata": {},
     "output_type": "execute_result"
    },
    {
     "data": {
      "image/png": "[encoded data removed]",
      "text/plain": [
       "<Figure size 432x288 with 1 Axes>"
      ]
     },
     "metadata": {
      "needs_background": "light"
     },
     "output_type": "display_data"
    }
   ],
   "source": [
    "iteration = range(1,len(error2)+1)\n",
    "\n",
    "plt.plot(iteration, error2, '--o', label = 'Absolute Error')\n",
    "plt.grid()\n",
    "plt.title('Plot of Absolute Error vs Iteration Number for Second Approximated Root')\n",
    "plt.legend()\n",
    "plt.xlabel('Iteration Number')\n",
    "plt.ylabel('Absolute Error')"
   ]
  },
  {
   "cell_type": "markdown",
   "id": "8c07f70a",
   "metadata": {},
   "source": [
    "---\n",
    "\n",
    "$\\pagebreak$"
   ]
  },
  {
   "cell_type": "markdown",
   "id": "755b5f9d",
   "metadata": {},
   "source": [
    "## (d)\n",
    "\n",
    "### Order of Convergence for First Root/Local Minima\n",
    "\n",
    "* Newton's Method is Quadratically Convergent as per theory. Let's check!"
   ]
  },
  {
   "cell_type": "code",
   "execution_count": 15,
   "id": "f564346a",
   "metadata": {},
   "outputs": [
    {
     "data": {
      "image/png": "[encoded data removed]",
      "text/plain": [
       "<Figure size 432x288 with 1 Axes>"
      ]
     },
     "metadata": {
      "needs_background": "light"
     },
     "output_type": "display_data"
    }
   ],
   "source": [
    "# Calculate the absolute error in the iteration n\n",
    "er=np.zeros(len(approx_roots1))\n",
    "for i in range(0,len(approx_roots1)-1):\n",
    "    er[i]=np.abs(approx_roots1[i+1]-approx_roots1[i])\n",
    "\n",
    "# Calculate error in the previous iteration\n",
    "erp=np.zeros(len(approx_roots1))\n",
    "for i in range(0,len(approx_roots1)-1):\n",
    "    erp[i]=er[i+1]\n",
    "    \n",
    "# Take logarithm of the absolute errors\n",
    "# Create empty lists to store the logarithm of the error\n",
    "erNew=[]\n",
    "erpNew=[]\n",
    "\n",
    "for i in er:\n",
    "    if i != 0:\n",
    "        item = np.log(i)\n",
    "        erNew.append(item)\n",
    "    else:\n",
    "        item = None\n",
    "        erNew.append(item)\n",
    "        \n",
    "        \n",
    "for i in erp:\n",
    "    if i != 0:\n",
    "        item = np.log(i)\n",
    "        erpNew.append(item)\n",
    "    else:\n",
    "        item = None\n",
    "        erpNew.append(item)      \n",
    "\n",
    "# For plotting alpha = 2\n",
    "erSquared = []\n",
    "for i in range(0,len(er)):\n",
    "    if (er[i] * er[i]) != 0:\n",
    "        item = np.log(er[i]*er[i])\n",
    "        erSquared.append(item)\n",
    "    else:\n",
    "        item = None\n",
    "        erSquared.append(item)\n",
    "\n",
    "plt.plot(erNew, erpNew, marker = 'x', label = 'Logarithm of Absolute Errors') \n",
    "plt.plot(erNew, erNew, label = 'alpha = 1') \n",
    "plt.plot(erNew, erSquared, label = 'alpha = 2') \n",
    "plt.title(f'Logarithm of Absolute Error Plots for First Root {approx_roots1[-1]:.5f}')\n",
    "plt.xlabel(r'$ln|e_n|$')\n",
    "plt.ylabel(r'$ln|e_{n-1}|$')\n",
    "plt.legend()\n",
    "plt.grid(True) \n",
    "plt.show()"
   ]
  },
  {
   "cell_type": "markdown",
   "id": "42b631ef",
   "metadata": {},
   "source": [
    "* From the log of error plots, it is seen that the log of absolute errors is closer to $\\alpha = 2$, which implies that the order of convergence for the first root/local minima is quadratic.\n",
    "* This is inline with the theory."
   ]
  },
  {
   "cell_type": "code",
   "execution_count": 16,
   "id": "c415eb99",
   "metadata": {},
   "outputs": [
    {
     "data": {
      "text/plain": [
       "2.000250494071443"
      ]
     },
     "execution_count": 16,
     "metadata": {},
     "output_type": "execute_result"
    }
   ],
   "source": [
    "# Check if the slope also implies the same order of convergence\n",
    "\n",
    "# Order of convergence from log plots\n",
    "slope = (erpNew[-3]-erpNew[-4])/(erNew[-3] - erNew[-4])\n",
    "#slope = (erpNew[-4]-erpNew[-3])/(erNew[-4] - erNew[-3])\n",
    "slope"
   ]
  },
  {
   "cell_type": "code",
   "execution_count": 17,
   "id": "56330d55",
   "metadata": {},
   "outputs": [
    {
     "name": "stdout",
     "output_type": "stream",
     "text": [
      "3.1353577520162563\n",
      "3.6302698170821532\n",
      "3.6267473246778263\n",
      "3.5589594168942993\n",
      "3.5538792706640763\n"
     ]
    }
   ],
   "source": [
    "# Check for error ratio\n",
    "for err in range(len(error1)-1):\n",
    "    ratio = np.abs(error1[err+1])/np.abs(error1[err]**2)\n",
    "    print(ratio)"
   ]
  },
  {
   "cell_type": "markdown",
   "id": "45a449f1",
   "metadata": {},
   "source": [
    "*  The ratio approaches a constant 3.55 which is numerical confirmation of the quadratic convergence of the sequence."
   ]
  },
  {
   "cell_type": "code",
   "execution_count": 18,
   "id": "5667dc10",
   "metadata": {},
   "outputs": [
    {
     "data": {
      "text/plain": [
       "(4*x**4 + 11.5*x**3 + 7.5*x**2 + 1.125*x + 3,\n",
       " 16*x**3 + 34.5*x**2 + 15.0*x + 1.125)"
      ]
     },
     "execution_count": 18,
     "metadata": {},
     "output_type": "execute_result"
    }
   ],
   "source": [
    "# Check for asymptotic constant\n",
    "\n",
    "from sympy import *\n",
    "x = symbols('x')\n",
    "\n",
    "# Encode the equation in a function\n",
    "def f(x):\n",
    "    return 4*x**4 + (23/2)*x**3 + (15/2)*x**2 + (9/8)*x + 3\n",
    "\n",
    "# Encode derivative for the equation in a function\n",
    "def df1(x):\n",
    "    return 16*x**3+(1/2)*(69*x**2+30*x)+(9/8)\n",
    "    #return diff(f(x), x)\n",
    "    \n",
    "f(x), df1(x)"
   ]
  },
  {
   "cell_type": "code",
   "execution_count": 19,
   "id": "f203da1a",
   "metadata": {},
   "outputs": [
    {
     "data": {
      "text/latex": [
       "$\\displaystyle 48 x^{2} + 69.0 x + 15.0$"
      ],
      "text/plain": [
       "48*x**2 + 69.0*x + 15.0"
      ]
     },
     "execution_count": 19,
     "metadata": {},
     "output_type": "execute_result"
    }
   ],
   "source": [
    "# Calculate second derivative\n",
    "df2 = diff(df1(x), x)\n",
    "df2"
   ]
  },
  {
   "cell_type": "code",
   "execution_count": 20,
   "id": "340da037",
   "metadata": {},
   "outputs": [
    {
     "data": {
      "text/latex": [
       "$\\displaystyle 48 x^{2} + 69 x + 15$"
      ],
      "text/plain": [
       "48*x**2 + 69*x + 15"
      ]
     },
     "execution_count": 20,
     "metadata": {},
     "output_type": "execute_result"
    }
   ],
   "source": [
    "# Encode second derivative for the equation in a function\n",
    "def df2(x):\n",
    "    return 48*x**2 + 69*x + 15\n",
    "df2(x)"
   ]
  },
  {
   "cell_type": "code",
   "execution_count": 21,
   "id": "a8c85c3a",
   "metadata": {},
   "outputs": [
    {
     "data": {
      "text/plain": [
       "-3.553831547246484"
      ]
     },
     "execution_count": 21,
     "metadata": {},
     "output_type": "execute_result"
    }
   ],
   "source": [
    "# Convergence Order Check\n",
    "df2(approx_roots1[-1])/(2*df1(approx_roots1[-1]))\n",
    "#df2(P1)/(2*df1(P1))"
   ]
  },
  {
   "cell_type": "markdown",
   "id": "638622e3",
   "metadata": {},
   "source": [
    "### Order of Convergence for Second Root/Local Maxima"
   ]
  },
  {
   "cell_type": "code",
   "execution_count": 22,
   "id": "212d0d27",
   "metadata": {},
   "outputs": [
    {
     "data": {
      "image/png": "[encoded data removed]",
      "text/plain": [
       "<Figure size 432x288 with 1 Axes>"
      ]
     },
     "metadata": {
      "needs_background": "light"
     },
     "output_type": "display_data"
    }
   ],
   "source": [
    "# Calculate the absolute error in the iteration n\n",
    "er=np.zeros(len(approx_roots2))\n",
    "for i in range(0,len(approx_roots2)-1):\n",
    "    er[i]=np.abs(approx_roots2[i+1]-approx_roots2[i])\n",
    "\n",
    "# Calculate error in the previous iteration\n",
    "erp=np.zeros(len(approx_roots2))\n",
    "for i in range(0,len(approx_roots2)-1):\n",
    "    erp[i]=er[i+1]\n",
    "    \n",
    "# Take logarithm of the absolute errors\n",
    "# Create empty lists to store the logarithm of the error\n",
    "erNew=[]\n",
    "erpNew=[]\n",
    "\n",
    "for i in er:\n",
    "    if i != 0:\n",
    "        item = np.log(i)\n",
    "        erNew.append(item)\n",
    "    else:\n",
    "        item = None\n",
    "        erNew.append(item)\n",
    "        \n",
    "        \n",
    "for i in erp:\n",
    "    if i != 0:\n",
    "        item = np.log(i)\n",
    "        erpNew.append(item)\n",
    "    else:\n",
    "        item = None\n",
    "        erpNew.append(item)      \n",
    "\n",
    "# For plotting alpha = 2\n",
    "erSquared = []\n",
    "for i in range(0,len(er)):\n",
    "    if (er[i] * er[i]) != 0:\n",
    "        item = np.log(er[i]*er[i])\n",
    "        erSquared.append(item)\n",
    "    else:\n",
    "        item = None\n",
    "        erSquared.append(item)\n",
    "\n",
    "plt.plot(erNew, erpNew, marker = 'x', label = 'Logarithm of Absolute Errors') \n",
    "plt.plot(erNew, erNew, label = 'alpha = 1') \n",
    "plt.plot(erNew, erSquared, label = 'alpha = 2') \n",
    "plt.title(f'Logarithm of Absolute Error Plots for Second Root {approx_roots2[-1]:.5f}')\n",
    "plt.xlabel(r'$ln|e_n|$')\n",
    "plt.ylabel(r'$ln|e_{n-1}|$')\n",
    "plt.legend()\n",
    "plt.grid(True) \n",
    "plt.show()"
   ]
  },
  {
   "cell_type": "code",
   "execution_count": 23,
   "id": "10af2cee",
   "metadata": {},
   "outputs": [
    {
     "data": {
      "text/plain": [
       "2.0232635141099427"
      ]
     },
     "execution_count": 23,
     "metadata": {},
     "output_type": "execute_result"
    }
   ],
   "source": [
    "# Order of convergence from log plots\n",
    "slope = (erpNew[-3]-erpNew[-4])/(erNew[-3] - erNew[-4])\n",
    "#slope = (erpNew[-4]-erpNew[-3])/(erNew[-4] - erNew[-3])\n",
    "slope"
   ]
  },
  {
   "cell_type": "markdown",
   "id": "1a69bdb2",
   "metadata": {},
   "source": [
    "* It is again observed from the log of error plots, that the order of convergence for the second root, i.e. local maxima is also quadratic!"
   ]
  },
  {
   "cell_type": "code",
   "execution_count": 24,
   "id": "82b5d83b",
   "metadata": {},
   "outputs": [
    {
     "name": "stdout",
     "output_type": "stream",
     "text": [
      "0.13737578831208416\n",
      "1.5254120498846524\n",
      "1.4104393954117858\n"
     ]
    }
   ],
   "source": [
    "# Check for error ratio\n",
    "for err in range(len(error2)-1):\n",
    "    ratio = error2[err+1]/(error2[err]**2)\n",
    "    print(ratio)"
   ]
  },
  {
   "cell_type": "code",
   "execution_count": 25,
   "id": "94ec9a68",
   "metadata": {},
   "outputs": [
    {
     "data": {
      "text/plain": [
       "1.414545975109772"
      ]
     },
     "execution_count": 25,
     "metadata": {},
     "output_type": "execute_result"
    }
   ],
   "source": [
    "# Convergence Order Check\n",
    "df2(approx_roots2[-1])/(2*df1(approx_roots2[-1]))\n",
    "#df2(P2)/(2*df1(P2))"
   ]
  },
  {
   "cell_type": "markdown",
   "id": "7e160a5f",
   "metadata": {},
   "source": [
    "* The error ratio approaches a constant and is similar to the asymptotic constant. This is numerical confirmation of the quadratic convergence."
   ]
  },
  {
   "cell_type": "markdown",
   "id": "88cb69a2",
   "metadata": {},
   "source": [
    "---\n",
    "\n",
    "$\\pagebreak$"
   ]
  },
  {
   "cell_type": "markdown",
   "id": "e9739b2f",
   "metadata": {},
   "source": [
    "# Problem 2"
   ]
  },
  {
   "cell_type": "code",
   "execution_count": 26,
   "id": "e76f96d0",
   "metadata": {},
   "outputs": [
    {
     "data": {
      "text/latex": [
       "$\\displaystyle x^{3} + 2 x^{2} - 3 x - 1$"
      ],
      "text/plain": [
       "x**3 + 2*x**2 - 3*x - 1"
      ]
     },
     "execution_count": 26,
     "metadata": {},
     "output_type": "execute_result"
    }
   ],
   "source": [
    "import numpy as np\n",
    "import pandas as pd\n",
    "\n",
    "from sympy import *\n",
    "x = symbols('x')\n",
    "\n",
    "# Encode the equation in a function\n",
    "def f(x):\n",
    "    return x**3 - 3*x + 2*x**2 - 1\n",
    "\n",
    "f(x)"
   ]
  },
  {
   "cell_type": "code",
   "execution_count": 27,
   "id": "dd5bcc53",
   "metadata": {},
   "outputs": [
    {
     "data": {
      "text/latex": [
       "$\\displaystyle \\left(- 2 x^{2} + 3 x + 1\\right)^{0.333333333333333}$"
      ],
      "text/plain": [
       "(-2*x**2 + 3*x + 1)**0.333333333333333"
      ]
     },
     "execution_count": 27,
     "metadata": {},
     "output_type": "execute_result"
    }
   ],
   "source": [
    "# Encode functions for fixed point iteration\n",
    "def g1(x):\n",
    "    return (3*x - 2*x**2 + 1)**(1/3)\n",
    "    \n",
    "def g2(x):\n",
    "    return ((x**3 + 2*x**2 - 1)/3)\n",
    "\n",
    "g1(x)"
   ]
  },
  {
   "cell_type": "code",
   "execution_count": 28,
   "id": "571d741d",
   "metadata": {},
   "outputs": [
    {
     "data": {
      "text/latex": [
       "$\\displaystyle \\frac{x^{3}}{3} + \\frac{2 x^{2}}{3} - \\frac{1}{3}$"
      ],
      "text/plain": [
       "x**3/3 + 2*x**2/3 - 1/3"
      ]
     },
     "execution_count": 28,
     "metadata": {},
     "output_type": "execute_result"
    }
   ],
   "source": [
    "g2(x)"
   ]
  },
  {
   "cell_type": "code",
   "execution_count": 29,
   "id": "6e261f1f",
   "metadata": {},
   "outputs": [
    {
     "data": {
      "text/plain": [
       "array([-2.91222918,  1.19869124, -0.28646207])"
      ]
     },
     "execution_count": 29,
     "metadata": {},
     "output_type": "execute_result"
    }
   ],
   "source": [
    "# Find the roots of the given polynomial using built-in solver\n",
    "coeff = [1,2,-3,-1]\n",
    "np.roots(coeff)"
   ]
  },
  {
   "cell_type": "code",
   "execution_count": 30,
   "id": "b0549e61",
   "metadata": {},
   "outputs": [
    {
     "data": {
      "text/latex": [
       "$\\displaystyle 3 x^{2} + 4 x - 3$"
      ],
      "text/plain": [
       "3*x**2 + 4*x - 3"
      ]
     },
     "execution_count": 30,
     "metadata": {},
     "output_type": "execute_result"
    }
   ],
   "source": [
    "# Find the derivative\n",
    "diff(f(x), x)"
   ]
  },
  {
   "cell_type": "code",
   "execution_count": 31,
   "id": "1c2b2ceb",
   "metadata": {},
   "outputs": [
    {
     "data": {
      "text/latex": [
       "$\\displaystyle 3 x^{2} + 4 x - 3$"
      ],
      "text/plain": [
       "3*x**2 + 4*x - 3"
      ]
     },
     "execution_count": 31,
     "metadata": {},
     "output_type": "execute_result"
    }
   ],
   "source": [
    "# Encode derivative for the equation in a function\n",
    "def df1(x):\n",
    "    return 3*x**2 + 4*x - 3\n",
    "df1(x)"
   ]
  },
  {
   "cell_type": "code",
   "execution_count": 32,
   "id": "c4846002",
   "metadata": {},
   "outputs": [
    {
     "data": {
      "image/png": "[encoded data removed]",
      "text/plain": [
       "<Figure size 432x288 with 1 Axes>"
      ]
     },
     "metadata": {
      "needs_background": "light"
     },
     "output_type": "display_data"
    }
   ],
   "source": [
    "import matplotlib.pyplot as plt\n",
    "%matplotlib inline\n",
    "\n",
    "import warnings\n",
    "warnings.filterwarnings(\"ignore\")\n",
    "\n",
    "# Actual Roots (only for indicating the location of real roots)\n",
    "P1 = -2.91222918\n",
    "P2 = 1.19869124\n",
    "P3 = -0.28646207\n",
    "\n",
    "# Plot the graph of the function and indicate the real roots\n",
    "x = np.arange(-5, 5, 0.1)\n",
    "y = f(x)  \n",
    "plt.plot(x, y, label = r'$ x^{3} + 2x^{2} − 3x − 1 $')\n",
    "plt.plot(x, g1(x), label = r'$ \\sqrt[3]{3x - 2x^{2} + 1} $')\n",
    "plt.plot(x, g2(x), label = r'$ \\frac{x^{3} + 2x^{2} - 1}{3} $', c='k')\n",
    "plt.plot(P1, f(P1), label = 'First Real Root', marker = '*', c='r')\n",
    "plt.plot(P2, f(P2), label = 'Second Real Root', marker = 'o', c='g')\n",
    "plt.plot(P3, f(P3), label = 'Third Real Root', marker = 'x', c='b')\n",
    "plt.title(r'Plot of $f(x) = x^{3} + 2x^{2} − 3x − 1$')\n",
    "plt.xlabel('x')\n",
    "plt.ylabel('f(x)')\n",
    "plt.legend()\n",
    "plt.grid(True) \n",
    "#plt.ylim(-2, 2)\n",
    "#plt.xlim(-10,10)\n",
    "plt.show()   "
   ]
  },
  {
   "cell_type": "markdown",
   "id": "7197820f",
   "metadata": {},
   "source": [
    "* The cubic equation given has three real roots.\n",
    "* But we are given with 2 functions only, so we can approximate two of the three real roots."
   ]
  },
  {
   "cell_type": "markdown",
   "id": "3637d06e",
   "metadata": {},
   "source": [
    "---\n",
    "\n",
    "## (a)"
   ]
  },
  {
   "cell_type": "code",
   "execution_count": 33,
   "id": "cba016c2",
   "metadata": {},
   "outputs": [],
   "source": [
    "# Create Empty List\n",
    "p1 = [np.nan]*100 # To store approximations of the first root using g1(x)\n",
    "#p2 = [np.nan]*100 # To store approximations of the second root using g2(x)\n",
    "\n",
    "# Initialize list with given starting value\n",
    "p1[0] = 1\n",
    "#p2[0] = 1"
   ]
  },
  {
   "cell_type": "code",
   "execution_count": 34,
   "id": "a7b37bcb",
   "metadata": {},
   "outputs": [],
   "source": [
    "# Create Function for Fixed Point Iteration Scheme\n",
    "def fixed_point_iteration(p,g,tol = 1e-6, Nmax = 100):\n",
    "    P = []\n",
    "    itr = 1\n",
    "    for x in range(0,Nmax+1):\n",
    "        p[x+1] = g(p[x])\n",
    "        P.append(p[x+1])\n",
    "        error = np.abs(p[x] - p[x+1])\n",
    "        print(f'Iteration# ({x+1}) -> Approximate Root = {p[x+1]}, Absolute Error = {error}')\n",
    "        print()\n",
    "        if error <= 1e-6:\n",
    "            print(f'Fixed Point Iteration Scheme Converged at Iteration # ({x+1}) with Absolute Error: ({error})')\n",
    "            print(f'Best Approximated Root is: {p[x+1]}')\n",
    "            break\n",
    "        elif x == Nmax:\n",
    "            print(f'Fixed Point Iteration Scheme Did Not Converge and Maximum Number of Iterations reached!')\n",
    "            print(f'Absolute Error: ({error})')\n",
    "            print(f'Last Approximated Root is: {p[x+1]}')\n",
    "            break\n",
    "        else:\n",
    "            continue\n",
    "    #P = [i for i in p if i is not None]\n",
    "    return P"
   ]
  },
  {
   "cell_type": "code",
   "execution_count": 35,
   "id": "f691dcf8",
   "metadata": {},
   "outputs": [
    {
     "name": "stdout",
     "output_type": "stream",
     "text": [
      "Iteration# (1) -> Approximate Root = 1.2599210498948732, Absolute Error = 0.2599210498948732\n",
      "\n",
      "Iteration# (2) -> Approximate Root = 1.1708146968397688, Absolute Error = 0.08910635305510439\n",
      "\n",
      "Iteration# (3) -> Approximate Root = 1.2098335453577787, Absolute Error = 0.03901884851800985\n",
      "\n",
      "Iteration# (4) -> Approximate Root = 1.1939758786121306, Absolute Error = 0.015857666745648036\n",
      "\n",
      "Iteration# (5) -> Approximate Root = 1.200641055261823, Absolute Error = 0.00666517664969235\n",
      "\n",
      "Iteration# (6) -> Approximate Root = 1.1978770981546871, Absolute Error = 0.0027639571071358393\n",
      "\n",
      "Iteration# (7) -> Approximate Root = 1.1990298199798326, Absolute Error = 0.0011527218251454752\n",
      "\n",
      "Iteration# (8) -> Approximate Root = 1.1985502031727029, Absolute Error = 0.00047961680712971244\n",
      "\n",
      "Iteration# (9) -> Approximate Root = 1.1987499553284113, Absolute Error = 0.00019975215570844362\n",
      "\n",
      "Iteration# (10) -> Approximate Root = 1.1986667960177984, Absolute Error = 8.31593106129791e-05\n",
      "\n",
      "Iteration# (11) -> Approximate Root = 1.1987014221750742, Absolute Error = 3.4626157275896574e-05\n",
      "\n",
      "Iteration# (12) -> Approximate Root = 1.1986870054404413, Absolute Error = 1.4416734632982653e-05\n",
      "\n",
      "Iteration# (13) -> Approximate Root = 1.1986930080810334, Absolute Error = 6.002640592139841e-06\n",
      "\n",
      "Iteration# (14) -> Approximate Root = 1.1986905088152948, Absolute Error = 2.499265738586942e-06\n",
      "\n",
      "Iteration# (15) -> Approximate Root = 1.1986915494175303, Absolute Error = 1.0406022354914057e-06\n",
      "\n",
      "Iteration# (16) -> Approximate Root = 1.198691116149996, Absolute Error = 4.3326753429440146e-07\n",
      "\n",
      "Fixed Point Iteration Scheme Converged at Iteration # (16) with Absolute Error: (4.3326753429440146e-07)\n",
      "Best Approximated Root is: 1.198691116149996\n"
     ]
    }
   ],
   "source": [
    "roots_with_g1 = fixed_point_iteration(p1,g1)"
   ]
  },
  {
   "cell_type": "markdown",
   "id": "145b0114",
   "metadata": {},
   "source": [
    "* This is equivalent to P2 found using built-in solver."
   ]
  },
  {
   "cell_type": "markdown",
   "id": "7c3420bc",
   "metadata": {},
   "source": [
    "---\n",
    "\n",
    "$\\pagebreak$"
   ]
  },
  {
   "cell_type": "markdown",
   "id": "4146c73f",
   "metadata": {},
   "source": [
    "## (b)"
   ]
  },
  {
   "cell_type": "code",
   "execution_count": 36,
   "id": "a5348f39",
   "metadata": {},
   "outputs": [],
   "source": [
    "# Create Empty List\n",
    "p2 = [np.nan]*100 # To store approximations of the second root using g2(x)\n",
    "\n",
    "# Initialize list with given starting value\n",
    "p2[0] = 1"
   ]
  },
  {
   "cell_type": "code",
   "execution_count": 37,
   "id": "82eb17d6",
   "metadata": {},
   "outputs": [
    {
     "name": "stdout",
     "output_type": "stream",
     "text": [
      "Iteration# (1) -> Approximate Root = 0.6666666666666666, Absolute Error = 0.33333333333333337\n",
      "\n",
      "Iteration# (2) -> Approximate Root = 0.06172839506172837, Absolute Error = 0.6049382716049383\n",
      "\n",
      "Iteration# (3) -> Approximate Root = -0.3307146669777705, Absolute Error = 0.3924430620394989\n",
      "\n",
      "Iteration# (4) -> Approximate Root = -0.2724755352665393, Absolute Error = 0.05823913171123124\n",
      "\n",
      "Iteration# (5) -> Approximate Root = -0.2905811813328706, Absolute Error = 0.018105646066331305\n",
      "\n",
      "Iteration# (6) -> Approximate Root = -0.28522036007279733, Absolute Error = 0.005360821260073256\n",
      "\n",
      "Iteration# (7) -> Approximate Root = -0.2868338517229657, Absolute Error = 0.001613491650168386\n",
      "\n",
      "Iteration# (8) -> Approximate Root = -0.2863505177909253, Absolute Error = 0.0004833339320404195\n",
      "\n",
      "Iteration# (9) -> Approximate Root = -0.2864955120802328, Absolute Error = 0.00014499428930747627\n",
      "\n",
      "Iteration# (10) -> Approximate Root = -0.28645203420747495, Absolute Error = 4.347787275782444e-05\n",
      "\n",
      "Iteration# (11) -> Approximate Root = -0.2864650731262116, Absolute Error = 1.3038918736663074e-05\n",
      "\n",
      "Iteration# (12) -> Approximate Root = -0.2864611629339601, Absolute Error = 3.910192251488365e-06\n",
      "\n",
      "Iteration# (13) -> Approximate Root = -0.286462335560365, Absolute Error = 1.1726264048661506e-06\n",
      "\n",
      "Iteration# (14) -> Approximate Root = -0.28646198390299765, Absolute Error = 3.5165736733677733e-07\n",
      "\n",
      "Fixed Point Iteration Scheme Converged at Iteration # (14) with Absolute Error: (3.5165736733677733e-07)\n",
      "Best Approximated Root is: -0.28646198390299765\n"
     ]
    }
   ],
   "source": [
    "roots_with_g2 = fixed_point_iteration(p2,g2)"
   ]
  },
  {
   "cell_type": "markdown",
   "id": "e82fc8e9",
   "metadata": {},
   "source": [
    "* This is equivalent to P3 found using built-in solver."
   ]
  },
  {
   "cell_type": "markdown",
   "id": "661024d7",
   "metadata": {},
   "source": [
    "---\n",
    "$\\pagebreak$"
   ]
  },
  {
   "cell_type": "markdown",
   "id": "3199b700",
   "metadata": {},
   "source": [
    "## (c)\n",
    "\n",
    "If $x^* = g(x^*)$ and $|g'(x^*)| < 1$ then $x_{k+1} = g(x_k)$ is locally convergent.\n",
    "\n",
    "When $|e_{k+1}| \\leq C |e_k| \\leq ... C^k |e_0|$, then the fixed point sequence converges.\n",
    "\n",
    "* The sequence generated in (a) converges after 16 iterations of the Fixed Point Iteration Scheme within the interval (1,2).\n",
    "\n",
    "* The sequence generated in (b) converges after 14 iterations of the Fixed Point Iteration Scheme, but outside the interval (1,2)."
   ]
  },
  {
   "cell_type": "code",
   "execution_count": 38,
   "id": "e7f66b7e",
   "metadata": {},
   "outputs": [
    {
     "data": {
      "text/plain": [
       "(1.19869124, -0.28646207)"
      ]
     },
     "execution_count": 38,
     "metadata": {},
     "output_type": "execute_result"
    }
   ],
   "source": [
    "x1_star = P2\n",
    "x2_star = P3\n",
    "\n",
    "x1_star,x2_star"
   ]
  },
  {
   "cell_type": "code",
   "execution_count": 39,
   "id": "c22681cf",
   "metadata": {},
   "outputs": [
    {
     "data": {
      "text/latex": [
       "$\\displaystyle \\frac{1.0 - 1.33333333333333 x}{\\left(- 2 x^{2} + 3 x + 1\\right)^{0.666666666666667}}$"
      ],
      "text/plain": [
       "(1.0 - 1.33333333333333*x)*(-2*x**2 + 3*x + 1)**(-0.666666666666667)"
      ]
     },
     "execution_count": 39,
     "metadata": {},
     "output_type": "execute_result"
    }
   ],
   "source": [
    "from sympy import *\n",
    "x = symbols('x')\n",
    "\n",
    "# Encode g1(x)\n",
    "def g1(x):\n",
    "    return (3*x - 2*x**2 + 1)**(1/3)\n",
    "\n",
    "# Find first derivative of g1(x)\n",
    "diff(g1(x), x)\n",
    "#g1(x)"
   ]
  },
  {
   "cell_type": "code",
   "execution_count": 40,
   "id": "8160f5c3",
   "metadata": {},
   "outputs": [
    {
     "data": {
      "text/plain": [
       "1.1986912449799265"
      ]
     },
     "execution_count": 40,
     "metadata": {},
     "output_type": "execute_result"
    }
   ],
   "source": [
    "# Check\n",
    "g1(x1_star)"
   ]
  },
  {
   "cell_type": "markdown",
   "id": "5d192df2",
   "metadata": {},
   "source": [
    "* Verified that $x^* = g(x^*)$"
   ]
  },
  {
   "cell_type": "code",
   "execution_count": 41,
   "id": "4cd8c1d1",
   "metadata": {},
   "outputs": [
    {
     "data": {
      "text/latex": [
       "$\\displaystyle \\frac{3 - 4 x}{3 \\left(- 2 x^{2} + 3 x + 1\\right)^{0.666666666666667}}$"
      ],
      "text/plain": [
       "(3 - 4*x)*(-2*x**2 + 3*x + 1)**(-0.666666666666667)/3"
      ]
     },
     "execution_count": 41,
     "metadata": {},
     "output_type": "execute_result"
    }
   ],
   "source": [
    "# Encode first derivative of g1(x)\n",
    "def dg1(x):\n",
    "    return (3-4*x)/(3*(3*x - 2*x**2 +1)**(2/3))\n",
    "dg1(x)"
   ]
  },
  {
   "cell_type": "code",
   "execution_count": 42,
   "id": "bfb113c4",
   "metadata": {},
   "outputs": [
    {
     "data": {
      "text/plain": [
       "True"
      ]
     },
     "execution_count": 42,
     "metadata": {},
     "output_type": "execute_result"
    }
   ],
   "source": [
    "# Check\n",
    "np.abs(dg1(x1_star))<1"
   ]
  },
  {
   "cell_type": "markdown",
   "id": "bfb5cfa1",
   "metadata": {},
   "source": [
    "* Verified that $|g'(x^*)| < 1$\n",
    "\n",
    "* Thus $x_{k+1} = g(x_k)$ is locally convergent."
   ]
  },
  {
   "cell_type": "markdown",
   "id": "8ce25300",
   "metadata": {},
   "source": [
    "* Fixed Point Iteration is linearly convergent.\n",
    "\n",
    "* Therefore the error ratio should be a constant C.\n",
    "\n",
    "#### Check for $|e_{k+1}| \\leq C |e_k| \\leq ... C^k |e_0|$"
   ]
  },
  {
   "cell_type": "code",
   "execution_count": 43,
   "id": "9b415486",
   "metadata": {},
   "outputs": [],
   "source": [
    "def error_check(roots):\n",
    "    error_in_iterationk = []\n",
    "    error_in_iterationk_1 = []\n",
    "    ratio = []\n",
    "    \n",
    "    for r in range(len(roots)-1):\n",
    "        ek = roots[r] - x1_star\n",
    "        error_in_iterationk.append(np.abs(ek))\n",
    "                                   \n",
    "        ek_1 = roots[r+1] - x1_star\n",
    "        error_in_iterationk_1.append(np.abs(ek_1))\n",
    "                                     \n",
    "        r = (np.linalg.norm(ek_1))/(np.linalg.norm(ek))\n",
    "        ratio.append(r)\n",
    "        \n",
    "    return error_in_iterationk,error_in_iterationk_1, ratio"
   ]
  },
  {
   "cell_type": "code",
   "execution_count": 44,
   "id": "5b36ff5f",
   "metadata": {},
   "outputs": [
    {
     "data": {
      "text/plain": [
       "[0.4552773103181787,\n",
       " 0.39970183152673844,\n",
       " 0.4231944141234265,\n",
       " 0.4135028264936262,\n",
       " 0.41754819610539157,\n",
       " 0.4158734522513314,\n",
       " 0.41655394795318024,\n",
       " 0.416312033789405,\n",
       " 0.4163134715090143,\n",
       " 0.4165514027209928,\n",
       " 0.41587966499502266,\n",
       " 0.41753599372426003,\n",
       " 0.4135470554976308,\n",
       " 0.4231728700727289,\n",
       " 0.4002682198528731]"
      ]
     },
     "execution_count": 44,
     "metadata": {},
     "output_type": "execute_result"
    }
   ],
   "source": [
    "l1, l2, ratio = error_check(roots_with_g1)\n",
    "ratio"
   ]
  },
  {
   "cell_type": "markdown",
   "id": "86699768",
   "metadata": {},
   "source": [
    "* The error ratio is $\\approx 1$\n",
    "* Hence the fixed point sequence converges linearly!"
   ]
  },
  {
   "cell_type": "markdown",
   "id": "e455a708",
   "metadata": {},
   "source": [
    "---"
   ]
  },
  {
   "cell_type": "code",
   "execution_count": 45,
   "id": "1428532a",
   "metadata": {},
   "outputs": [
    {
     "data": {
      "text/latex": [
       "$\\displaystyle x^{2} + \\frac{4 x}{3}$"
      ],
      "text/plain": [
       "x**2 + 4*x/3"
      ]
     },
     "execution_count": 45,
     "metadata": {},
     "output_type": "execute_result"
    }
   ],
   "source": [
    "# Encode g2(x)\n",
    "def g2(x):\n",
    "    return ((x**3 + 2*x**2 - 1)/3)\n",
    "diff(g2(x), x)"
   ]
  },
  {
   "cell_type": "code",
   "execution_count": 46,
   "id": "6e64f35d",
   "metadata": {},
   "outputs": [
    {
     "data": {
      "text/plain": [
       "-0.2864620635416326"
      ]
     },
     "execution_count": 46,
     "metadata": {},
     "output_type": "execute_result"
    }
   ],
   "source": [
    "# Check\n",
    "g2(x2_star)"
   ]
  },
  {
   "cell_type": "markdown",
   "id": "5e85308c",
   "metadata": {},
   "source": [
    "* Verified that $x^* = g(x^*)$"
   ]
  },
  {
   "cell_type": "code",
   "execution_count": 47,
   "id": "cab1fbc5",
   "metadata": {},
   "outputs": [
    {
     "data": {
      "text/latex": [
       "$\\displaystyle x^{2} + 1.33333333333333 x$"
      ],
      "text/plain": [
       "x**2 + 1.33333333333333*x"
      ]
     },
     "execution_count": 47,
     "metadata": {},
     "output_type": "execute_result"
    }
   ],
   "source": [
    "# Encode first derivative of g2(x)\n",
    "def dg2(x):\n",
    "    return x**2 + (4/3)*x\n",
    "dg2(x)"
   ]
  },
  {
   "cell_type": "code",
   "execution_count": 48,
   "id": "5329b5da",
   "metadata": {},
   "outputs": [
    {
     "data": {
      "text/plain": [
       "True"
      ]
     },
     "execution_count": 48,
     "metadata": {},
     "output_type": "execute_result"
    }
   ],
   "source": [
    "# Check\n",
    "np.abs(dg2(x2_star))<1"
   ]
  },
  {
   "cell_type": "markdown",
   "id": "291b5706",
   "metadata": {},
   "source": [
    "* Verified that $|g'(x^*)| < 1$\n",
    "\n",
    "* Thus $x_{k+1} = g(x_k)$ is locally convergent."
   ]
  },
  {
   "cell_type": "code",
   "execution_count": 49,
   "id": "3d00cc95",
   "metadata": {},
   "outputs": [
    {
     "data": {
      "text/plain": [
       "[2.137049493437442,\n",
       " 1.3451678863444352,\n",
       " 0.9619204218804697,\n",
       " 1.0123069976638446,\n",
       " 0.9964003756577489,\n",
       " 1.0010873232947899,\n",
       " 0.9996746376518759,\n",
       " 1.0000976365065473,\n",
       " 0.9999707256527188,\n",
       " 1.0000087795695964,\n",
       " 0.9999973671510421,\n",
       " 1.000000789566379,\n",
       " 0.9999997632181794]"
      ]
     },
     "execution_count": 49,
     "metadata": {},
     "output_type": "execute_result"
    }
   ],
   "source": [
    "l1, l2, ratio = error_check(roots_with_g2)\n",
    "ratio"
   ]
  },
  {
   "cell_type": "markdown",
   "id": "70f97d66",
   "metadata": {},
   "source": [
    "* The error ratio is $\\approx 1$.\n",
    "* Hence the sequence converges linearly."
   ]
  },
  {
   "cell_type": "markdown",
   "id": "659f09ba",
   "metadata": {},
   "source": [
    "---\n",
    "\n",
    "$\\pagebreak$"
   ]
  },
  {
   "cell_type": "markdown",
   "id": "696250f6",
   "metadata": {},
   "source": [
    "## (d)\n",
    "\n",
    "**Assumptions**\n",
    "\n",
    "1. $g$ should be continuous in $[a,b]$\n",
    "\n",
    "    a. $g1(x)$ and $g2(x)$ are continuous in $[a,b]$ as seen from the plot.\n",
    " \n",
    "2. $g$ is differentiable in $(a,b)$ and there exists $k < 1$ such that $|g'(x)| \\leq k < 1$ for all $x \\in (a,b)$\n",
    "\n",
    "Then -\n",
    "\n",
    "1. The sequence ${p_n}$ generated by $p_n = g(p_{n-1})$ converges to the fixed point $p$ for any $p_0 \\in [a,b]$\n",
    "\n",
    "    a. $[a,b]$ is $(1,2)$ and $p_0$ is 1 $\\in [a,b]$\n",
    "    \n",
    "    b. Both the sequences from g1(x) and g2(x) converge to the real roots P2 & P3 found using the built in solver.\n",
    "\n",
    "2. $|p_n - p_{n-1}| \\leq k^n max(p_0 - a, b - p0)$ \n",
    "\n",
    "3. $|p_n - p| \\leq \\frac{k^n}{1-k}|p_1 - p_0|$"
   ]
  },
  {
   "cell_type": "markdown",
   "id": "90e2f137",
   "metadata": {},
   "source": [
    "#### Check whether $|p_n - p| \\rightarrow 0, as,  n \\rightarrow \\infty$ for any starting value $p_0 \\in [a,b]$"
   ]
  },
  {
   "cell_type": "code",
   "execution_count": 50,
   "id": "2fd03a50",
   "metadata": {},
   "outputs": [],
   "source": [
    "def convergence_check(roots):\n",
    "    lhs = []\n",
    "    for r in range(len(roots)-1):\n",
    "        ans = np.abs(roots[r+1] - roots[r])\n",
    "        lhs.append(ans)\n",
    "        #print(ans)\n",
    "    return lhs"
   ]
  },
  {
   "cell_type": "code",
   "execution_count": 51,
   "id": "9a3f8320",
   "metadata": {},
   "outputs": [
    {
     "data": {
      "text/plain": [
       "[0.08910635305510439,\n",
       " 0.03901884851800985,\n",
       " 0.015857666745648036,\n",
       " 0.00666517664969235,\n",
       " 0.0027639571071358393,\n",
       " 0.0011527218251454752,\n",
       " 0.00047961680712971244,\n",
       " 0.00019975215570844362,\n",
       " 8.31593106129791e-05,\n",
       " 3.4626157275896574e-05,\n",
       " 1.4416734632982653e-05,\n",
       " 6.002640592139841e-06,\n",
       " 2.499265738586942e-06,\n",
       " 1.0406022354914057e-06,\n",
       " 4.3326753429440146e-07]"
      ]
     },
     "execution_count": 51,
     "metadata": {},
     "output_type": "execute_result"
    }
   ],
   "source": [
    "l1 = convergence_check(roots_with_g1)\n",
    "l1"
   ]
  },
  {
   "cell_type": "code",
   "execution_count": 52,
   "id": "0707efc7",
   "metadata": {},
   "outputs": [
    {
     "data": {
      "text/plain": [
       "[0.6049382716049383,\n",
       " 0.3924430620394989,\n",
       " 0.05823913171123124,\n",
       " 0.018105646066331305,\n",
       " 0.005360821260073256,\n",
       " 0.001613491650168386,\n",
       " 0.0004833339320404195,\n",
       " 0.00014499428930747627,\n",
       " 4.347787275782444e-05,\n",
       " 1.3038918736663074e-05,\n",
       " 3.910192251488365e-06,\n",
       " 1.1726264048661506e-06,\n",
       " 3.5165736733677733e-07]"
      ]
     },
     "execution_count": 52,
     "metadata": {},
     "output_type": "execute_result"
    }
   ],
   "source": [
    "l2 = convergence_check(roots_with_g2)\n",
    "l2"
   ]
  },
  {
   "cell_type": "markdown",
   "id": "f4fa1c9e",
   "metadata": {},
   "source": [
    "* Both the sequences $\\rightarrow 0$"
   ]
  },
  {
   "cell_type": "markdown",
   "id": "99a05bb0",
   "metadata": {},
   "source": [
    "---\n",
    "\n",
    "$\\pagebreak$"
   ]
  },
  {
   "cell_type": "markdown",
   "id": "dd4b3b90",
   "metadata": {},
   "source": [
    "# Problem 3\n",
    "\n",
    "$A.X = I$\n",
    "\n",
    "To find $A^{-1}$ multiply both sides by $A^{-1}$\n",
    "\n",
    "$A^{-1}A.X = I.A^{-1}$\n",
    "\n",
    "Since $A^{-1}A = I$ and any matrix multiplies with Identity Matrix $I$ is itself, we have\n",
    "\n",
    "$I.X = A^{-1}$\n",
    "\n",
    "Or\n",
    "\n",
    "$X = A^{-1}$\n",
    "\n",
    "So the question really is to find $X$"
   ]
  },
  {
   "cell_type": "code",
   "execution_count": 53,
   "id": "3e3f8a86",
   "metadata": {},
   "outputs": [
    {
     "data": {
      "text/plain": [
       "array([[1.  , 0.91, 0.82, 0.75, 0.6 , 0.5 , 0.  , 0.2 ],\n",
       "       [0.91, 2.  , 0.85, 0.8 , 1.77, 0.27, 0.32, 1.4 ],\n",
       "       [0.82, 0.85, 1.5 , 1.9 , 0.83, 2.1 , 0.67, 1.51],\n",
       "       [0.75, 0.8 , 1.9 , 1.2 , 0.97, 0.28, 0.23, 4.5 ],\n",
       "       [0.6 , 1.77, 0.83, 0.97, 1.75, 0.3 , 0.89, 1.75],\n",
       "       [0.5 , 0.27, 2.1 , 0.28, 0.3 , 2.  , 2.21, 0.79],\n",
       "       [0.  , 0.32, 0.67, 0.23, 0.89, 2.21, 3.  , 4.  ],\n",
       "       [0.2 , 1.4 , 1.51, 4.5 , 1.75, 0.79, 4.  , 0.96]])"
      ]
     },
     "execution_count": 53,
     "metadata": {},
     "output_type": "execute_result"
    }
   ],
   "source": [
    "import numpy as np\n",
    "\n",
    "# Define Matrix A\n",
    "A = np.array([[1,0.91,0.82,0.75,0.6,0.5,0,0.2],\n",
    "              [0.91,2,0.85,0.8,1.77,0.27,0.32,1.4],\n",
    "              [0.82,0.85,1.5,1.9,0.83,2.1,0.67,1.51],\n",
    "              [0.75,0.8,1.9,1.2,0.97,0.28,0.23,4.5],\n",
    "              [0.6,1.77,0.83,0.97,1.75,0.3,0.89,1.75],\n",
    "              [0.5,0.27,2.1,0.28,0.3,2,2.21,0.79],\n",
    "              [0,0.32,0.67,0.23,0.89,2.21,3,4],\n",
    "              [0.2,1.4,1.51,4.5,1.75,0.79,4,0.96]\n",
    "             ], float)\n",
    "\n",
    "A"
   ]
  },
  {
   "cell_type": "code",
   "execution_count": 54,
   "id": "c431312e",
   "metadata": {},
   "outputs": [
    {
     "data": {
      "text/plain": [
       "False"
      ]
     },
     "execution_count": 54,
     "metadata": {},
     "output_type": "execute_result"
    }
   ],
   "source": [
    "# Check whether A is Positive Definite\n",
    "\n",
    "def is_pos_def(x):\n",
    "    return np.all(np.linalg.eigvals(x) > 0)\n",
    "\n",
    "is_pos_def(A)"
   ]
  },
  {
   "cell_type": "markdown",
   "id": "d8f50aab",
   "metadata": {},
   "source": [
    "**A is not a positive definite matrix.**"
   ]
  },
  {
   "cell_type": "code",
   "execution_count": 55,
   "id": "1afd52ec",
   "metadata": {},
   "outputs": [
    {
     "data": {
      "text/plain": [
       "array([[1., 0., 0., 0., 0., 0., 0., 0.],\n",
       "       [0., 1., 0., 0., 0., 0., 0., 0.],\n",
       "       [0., 0., 1., 0., 0., 0., 0., 0.],\n",
       "       [0., 0., 0., 1., 0., 0., 0., 0.],\n",
       "       [0., 0., 0., 0., 1., 0., 0., 0.],\n",
       "       [0., 0., 0., 0., 0., 1., 0., 0.],\n",
       "       [0., 0., 0., 0., 0., 0., 1., 0.],\n",
       "       [0., 0., 0., 0., 0., 0., 0., 1.]])"
      ]
     },
     "execution_count": 55,
     "metadata": {},
     "output_type": "execute_result"
    }
   ],
   "source": [
    "# Define vector b\n",
    "I = np.identity(8, dtype = float)\n",
    "\n",
    "I"
   ]
  },
  {
   "cell_type": "code",
   "execution_count": 56,
   "id": "553e6a3a",
   "metadata": {},
   "outputs": [],
   "source": [
    "import numpy as np\n",
    "\n",
    "def conjugate_gradient(A, b, x=None, max_iter=100, reltol=1e-6, verbose=False):\n",
    "    x=np.ones_like(b)\n",
    "    \n",
    "    # Conjugate Gradient Algorithm\n",
    "    r=b-A(x)\n",
    "    d=r\n",
    "    rsnew=np.sum(r.conj()*r).real\n",
    "    print('rsnew = ', rsnew)\n",
    "    rs0=rsnew\n",
    "\n",
    "    ii=0\n",
    "    while ((ii<max_iter) and (np.sqrt(rsnew)>=reltol)):\n",
    "        ii=ii+1\n",
    "        print(f'Iteration#: {ii}')\n",
    "        Ad=A(d)\n",
    "        alpha=rsnew/(np.sum(d.conj()*Ad))\n",
    "        x=x+alpha*d\n",
    "        print(f'{x}')\n",
    "        print()\n",
    "        if ii%50==0:\n",
    "            r=b-A(x)\n",
    "            d=r\n",
    "        else:\n",
    "            r=r-alpha*Ad\n",
    "\n",
    "        rsold=rsnew\n",
    "        rsnew=np.sum(r.conj()*r).real\n",
    "        print('rsnew = ', rsnew)\n",
    "        d=r+rsnew/rsold*d\n",
    "        \n",
    "    return x"
   ]
  },
  {
   "cell_type": "code",
   "execution_count": 57,
   "id": "d82c7921",
   "metadata": {},
   "outputs": [
    {
     "name": "stdout",
     "output_type": "stream",
     "text": [
      "A =  [[1.   0.91 0.82 0.75 0.6  0.5  0.   0.2 ]\n",
      " [0.91 2.   0.85 0.8  1.77 0.27 0.32 1.4 ]\n",
      " [0.82 0.85 1.5  1.9  0.83 2.1  0.67 1.51]\n",
      " [0.75 0.8  1.9  1.2  0.97 0.28 0.23 4.5 ]\n",
      " [0.6  1.77 0.83 0.97 1.75 0.3  0.89 1.75]\n",
      " [0.5  0.27 2.1  0.28 0.3  2.   2.21 0.79]\n",
      " [0.   0.32 0.67 0.23 0.89 2.21 3.   4.  ]\n",
      " [0.2  1.4  1.51 4.5  1.75 0.79 4.   0.96]]\n",
      "\n",
      "b =  [[1. 0. 0. 0. 0. 0. 0. 0.]\n",
      " [0. 1. 0. 0. 0. 0. 0. 0.]\n",
      " [0. 0. 1. 0. 0. 0. 0. 0.]\n",
      " [0. 0. 0. 1. 0. 0. 0. 0.]\n",
      " [0. 0. 0. 0. 1. 0. 0. 0.]\n",
      " [0. 0. 0. 0. 0. 1. 0. 0.]\n",
      " [0. 0. 0. 0. 0. 0. 1. 0.]\n",
      " [0. 0. 0. 0. 0. 0. 0. 1.]]\n",
      "\n",
      "rsnew =  6373.1536\n",
      "Iteration#: 1\n",
      "[[ 0.64317684  0.54877917  0.54877917  0.54877917  0.54877917  0.54877917\n",
      "   0.54877917  0.54877917]\n",
      " [ 0.21461145  0.30900911  0.21461145  0.21461145  0.21461145  0.21461145\n",
      "   0.21461145  0.21461145]\n",
      " [ 0.0390318   0.0390318   0.13342946  0.0390318   0.0390318   0.0390318\n",
      "   0.0390318   0.0390318 ]\n",
      " [-0.00344715 -0.00344715 -0.00344715  0.09095051 -0.00344715 -0.00344715\n",
      "  -0.00344715 -0.00344715]\n",
      " [ 0.16363671  0.16363671  0.16363671  0.16363671  0.25803437  0.16363671\n",
      "   0.16363671  0.16363671]\n",
      " [ 0.20233975  0.20233975  0.20233975  0.20233975  0.20233975  0.29673742\n",
      "   0.20233975  0.20233975]\n",
      " [-0.06858154 -0.06858154 -0.06858154 -0.06858154 -0.06858154 -0.06858154\n",
      "   0.02581612 -0.06858154]\n",
      " [-0.42634868 -0.42634868 -0.42634868 -0.42634868 -0.42634868 -0.42634868\n",
      "  -0.42634868 -0.33195102]]\n",
      "\n",
      "rsnew =  41.08926741335368\n",
      "Iteration#: 2\n",
      "[[  0.69147322   8.1911588    8.12650863   8.07622516   7.96847488\n",
      "    7.89664135   7.53747373   7.68114078]\n",
      " [  6.48504706  -0.29630327   6.44194695   6.40603018   7.10281538\n",
      "    6.0253125    6.06122926   6.83703133]\n",
      " [  5.35401935   5.37556941  -1.72184844   6.12982142   5.3612027\n",
      "    6.27348847   5.24626906   5.84967067]\n",
      " [ -7.05251657  -7.01659981  -6.22643103 -14.29360146  -6.89448281\n",
      "   -7.39013414  -7.4260509   -4.35875938]\n",
      " [  3.14557806   3.98603031   3.31079517   3.41136211  -3.59267215\n",
      "    2.93007749   3.35389529   3.9716636 ]\n",
      " [  3.85805775   3.69284064   5.00739414   3.70002399   3.7143907\n",
      "   -2.62877513   5.08641102   4.06637497]\n",
      " [ -8.82971023  -8.59984295  -8.34842561  -8.66449312  -8.19039186\n",
      "   -7.24218933 -14.23904023  -5.95636923]\n",
      " [  2.10407147   2.96607377   3.04509065   5.19291305   3.21749111\n",
      "    2.52788927   4.83374542  -4.91432949]]\n",
      "\n",
      "rsnew =  29562.81158068911\n",
      "Iteration#: 3\n",
      "[[ 0.54644801  0.29946267  0.28858676  0.28786836  0.28039343  0.28230751\n",
      "   0.25172784  0.23272617]\n",
      " [-0.09175976  0.16530026 -0.12760968 -0.15748319 -0.07781165 -0.1394352\n",
      "  -0.16864719 -0.12156236]\n",
      " [-0.13876084 -0.16373485  0.06627406 -0.13022067 -0.17130749 -0.09059993\n",
      "  -0.21905377 -0.19330138]\n",
      " [-0.0953973  -0.14952643 -0.08613873 -0.00701869 -0.14880025 -0.16121407\n",
      "  -0.25845256  0.0805956 ]\n",
      " [-0.01250559  0.02051177 -0.0368589  -0.0584336   0.24097979 -0.04965729\n",
      "  -0.05451258 -0.02159971]\n",
      " [ 0.12087704  0.09035676  0.1753172   0.06062113  0.08181125  0.37231769\n",
      "   0.14756912  0.04391056]\n",
      " [ 0.09975478  0.07060217  0.05632077 -0.02715996  0.08641337  0.15702652\n",
      "   0.32141906  0.23882674]\n",
      " [-0.04558082 -0.00864692 -0.04426077  0.18555427 -0.00700769 -0.07296596\n",
      "   0.11249281 -0.05438828]]\n",
      "\n",
      "rsnew =  6.745496861046776\n",
      "Iteration#: 4\n",
      "[[ 1.13283266 -0.0710582  -0.04592324  0.08797461  0.01573992  0.05340232\n",
      "   0.30113059  0.07617813]\n",
      " [-0.29815603  0.68120549 -0.19052906 -0.27389312 -0.47178246 -0.02110623\n",
      "  -0.02525375 -0.11331882]\n",
      " [-0.43287962 -0.35038762  0.64405691 -0.44903351 -0.31082828 -0.5607532\n",
      "  -0.22717213 -0.39399314]\n",
      " [ 0.20833943  0.07356952  0.05828769  0.58352273  0.07191352  0.40745272\n",
      "  -0.03614155  0.50249785]\n",
      " [-0.05435251 -0.31477706  0.00603568 -0.11854372  0.95847606  0.13164882\n",
      "   0.01129114 -0.03875192]\n",
      " [-0.25427249 -0.1016832  -0.48147162 -0.0205869  -0.10593356  0.52553669\n",
      "  -0.48685039 -0.26146471]\n",
      " [ 0.06585601 -0.03343051 -0.07549032 -0.39178094 -0.15389101 -0.41445017\n",
      "   0.21511413 -0.01752975]\n",
      " [ 0.11368925  0.15129012  0.03047436  0.41964415  0.06885163  0.08372121\n",
      "   0.25525594  0.16790257]]\n",
      "\n",
      "rsnew =  17.84938334484795\n",
      "Iteration#: 5\n",
      "[[-0.01020973  0.55396453  0.53083385  0.3507825   0.38371717  0.52657439\n",
      "   0.16394953  0.27007469]\n",
      " [ 0.14549505 -0.27770972 -0.05800397 -0.16320773  0.42786114 -0.09463588\n",
      "  -0.08633202 -0.12599023]\n",
      " [ 0.04991527 -0.13045307 -0.81890461  0.29685954 -0.16855304  0.67933288\n",
      "  -0.55198298 -0.08963761]\n",
      " [-0.03647215 -0.1419929   0.39052348 -0.13851346 -0.11416774 -0.46713515\n",
      "   0.02741961  0.08582797]\n",
      " [ 0.05101986  0.50363331 -0.02033177 -0.0596104  -0.34134911 -0.10208816\n",
      "   0.12432061  0.05717314]\n",
      " [-0.00700766 -0.21974845  0.62666941 -0.61346256 -0.30297291 -0.62111354\n",
      "   0.16873637 -0.35698746]\n",
      " [-0.03127427  0.12691366 -0.26628819  0.21945045  0.26179411  0.50709462\n",
      "   0.09175184  0.2874625 ]\n",
      " [-0.04596207 -0.03355752  0.07524421  0.15704585  0.07383368 -0.13944217\n",
      "   0.16664954 -0.00292144]]\n",
      "\n",
      "rsnew =  5.024890833477681\n",
      "Iteration#: 6\n",
      "[[ 1.99649351e+00 -2.87036282e-01 -4.66270896e-01  1.11140719e-01\n",
      "  -1.74679917e-01 -1.64905432e-01  4.76246001e-01  1.21879822e-01]\n",
      " [-6.07018387e-01  1.05402575e+00 -3.42922442e-01 -4.54013267e-01\n",
      "  -8.88145602e-01 -1.91160163e-01 -1.18178575e-01 -2.23291149e-01]\n",
      " [-3.92654053e-01  5.06765066e-02  1.02482841e-01  5.77066994e-01\n",
      "   2.98065110e-01  7.96169720e-01 -3.82710957e-01  1.83042193e-01]\n",
      " [ 1.57088791e-01 -8.80830904e-02  5.49398222e-01  3.27309190e-01\n",
      "  -1.76004972e-01 -1.67340543e-01  1.07767220e-02  3.41802399e-01]\n",
      " [-3.48236852e-01 -7.41720431e-01  5.08913322e-02 -3.95509978e-01\n",
      "   1.43553249e+00 -6.32166776e-02 -1.71271228e-01 -2.74362877e-01]\n",
      " [-2.26732201e-01  6.69951736e-02  6.60726108e-01 -2.75115383e-01\n",
      "   4.85134882e-02 -1.23848941e-01  1.93716704e-01 -1.13107673e-01]\n",
      " [ 2.80271486e-01  5.82901480e-03 -6.52302315e-01 -2.31145865e-01\n",
      "  -1.93688809e-01  5.95689575e-02  1.38375143e-01  1.42735972e-02]\n",
      " [ 3.72564818e-02  1.20676159e-02  2.48020093e-02  2.11230987e-01\n",
      "  -1.85429283e-01 -1.35904245e-01  1.25624772e-01 -7.96586565e-04]]\n",
      "\n",
      "rsnew =  5.49849330491196\n",
      "Iteration#: 7\n",
      "[[ 4.13412938e+00 -1.44368486e+00 -1.58684721e+00 -2.38701856e-01\n",
      "  -7.15572701e-01 -9.46384278e-01  6.90758691e-01 -1.59718678e-01]\n",
      " [-1.19564080e+00  2.98490769e+00 -1.72370665e-02  1.43183031e-02\n",
      "  -2.74404812e+00  9.59153988e-02  3.87042138e-02  2.05659862e-01]\n",
      " [-1.23301831e+00  8.85477739e-02  3.43203319e-01  2.94778624e-01\n",
      "   6.49639228e-01  7.88288945e-01 -5.67361792e-01 -1.43102569e-02]\n",
      " [-4.75289670e-03  2.23202535e-04  1.74898683e-01 -1.18319542e-02\n",
      "  -2.90169066e-01 -2.92000376e-01 -4.85630617e-02  1.33268204e-01]\n",
      " [-2.34942564e-01 -2.51146205e+00  7.76440465e-01 -4.34878880e-02\n",
      "   3.96292910e+00  3.18091674e-01 -3.09526688e-01 -1.82097245e-01]\n",
      " [-6.32613980e-01  1.61641636e-01  7.48230342e-01 -2.12179038e-01\n",
      "   1.51231834e-01  6.93941091e-02  3.45064662e-02 -1.20556351e-01]\n",
      " [ 9.02670818e-01  2.57228145e-03 -7.09278565e-01 -7.05998934e-02\n",
      "  -5.78244697e-01 -6.73517036e-02  3.09809315e-01  1.44966962e-01]\n",
      " [ 8.19723575e-02  1.99306838e-01 -1.26448121e-01  1.41010281e-01\n",
      "  -4.21036345e-01 -1.92635613e-01  1.74745871e-01 -1.51434527e-02]]\n",
      "\n",
      "rsnew =  2.0456498690039995\n",
      "Iteration#: 8\n",
      "[[ 5.28090805e+00 -9.85515590e+00 -3.52797318e-01 -4.22060165e-01\n",
      "   9.58776418e+00 -5.61267193e-01 -7.58561211e-02 -8.94510832e-01]\n",
      " [-9.85515590e+00  2.98420641e+01 -8.34362984e-01  1.28065424e+00\n",
      "  -3.09731054e+01  8.57327029e-01  1.61036575e+00  2.88882151e+00]\n",
      " [-3.52797318e-01 -8.34362983e-01  7.21450870e-02  1.97440273e-01\n",
      "   1.10590826e+00  5.31331715e-01 -4.99202216e-01 -1.21911777e-01]\n",
      " [-4.22060165e-01  1.28065424e+00  1.97440272e-01  1.21511861e-01\n",
      "  -1.59422297e+00 -2.01260320e-01  2.59083433e-02  3.03969164e-01]\n",
      " [ 9.58776418e+00 -3.09731054e+01  1.10590826e+00 -1.59422297e+00\n",
      "   3.32098870e+01 -8.20650832e-01 -1.87520074e+00 -3.14511310e+00]\n",
      " [-5.61267192e-01  8.57327030e-01  5.31331717e-01 -2.01260318e-01\n",
      "  -8.20650830e-01  1.16667629e-03  1.26851371e-01 -5.92000630e-02]\n",
      " [-7.58561209e-02  1.61036575e+00 -4.99202216e-01  2.59083437e-02\n",
      "  -1.87520074e+00  1.26851369e-01  3.20374790e-01  3.10163075e-01]\n",
      " [-8.94510832e-01  2.88882151e+00 -1.21911777e-01  3.03969165e-01\n",
      "  -3.14511310e+00 -5.92000655e-02  3.10163075e-01  2.71709672e-01]]\n",
      "\n",
      "rsnew =  4.0220712943548665e-15\n",
      "$A^{-1} = $\n",
      "[[ 5.28090805e+00 -9.85515590e+00 -3.52797318e-01 -4.22060165e-01\n",
      "   9.58776418e+00 -5.61267193e-01 -7.58561211e-02 -8.94510832e-01]\n",
      " [-9.85515590e+00  2.98420641e+01 -8.34362984e-01  1.28065424e+00\n",
      "  -3.09731054e+01  8.57327029e-01  1.61036575e+00  2.88882151e+00]\n",
      " [-3.52797318e-01 -8.34362983e-01  7.21450870e-02  1.97440273e-01\n",
      "   1.10590826e+00  5.31331715e-01 -4.99202216e-01 -1.21911777e-01]\n",
      " [-4.22060165e-01  1.28065424e+00  1.97440272e-01  1.21511861e-01\n",
      "  -1.59422297e+00 -2.01260320e-01  2.59083433e-02  3.03969164e-01]\n",
      " [ 9.58776418e+00 -3.09731054e+01  1.10590826e+00 -1.59422297e+00\n",
      "   3.32098870e+01 -8.20650832e-01 -1.87520074e+00 -3.14511310e+00]\n",
      " [-5.61267192e-01  8.57327030e-01  5.31331717e-01 -2.01260318e-01\n",
      "  -8.20650830e-01  1.16667629e-03  1.26851371e-01 -5.92000630e-02]\n",
      " [-7.58561209e-02  1.61036575e+00 -4.99202216e-01  2.59083437e-02\n",
      "  -1.87520074e+00  1.26851369e-01  3.20374790e-01  3.10163075e-01]\n",
      " [-8.94510832e-01  2.88882151e+00 -1.21911777e-01  3.03969165e-01\n",
      "  -3.14511310e+00 -5.92000655e-02  3.10163075e-01  2.71709672e-01]]\n"
     ]
    }
   ],
   "source": [
    "A_mat = A\n",
    "print('A = ',A_mat)\n",
    "print()\n",
    "\n",
    "b = I\n",
    "print('b = ',b)\n",
    "print()\n",
    "\n",
    "def A(x):\n",
    "    return np.dot(A_mat,x)\n",
    "\n",
    "x = conjugate_gradient(A, b, reltol=1e-4)\n",
    "print('$A^{-1} = $')\n",
    "print(x)"
   ]
  },
  {
   "cell_type": "code",
   "execution_count": 58,
   "id": "d127e9db",
   "metadata": {},
   "outputs": [
    {
     "data": {
      "text/plain": [
       "array([[ 5.28090805e+00, -9.85515590e+00, -3.52797318e-01,\n",
       "        -4.22060165e-01,  9.58776418e+00, -5.61267193e-01,\n",
       "        -7.58561213e-02, -8.94510832e-01],\n",
       "       [-9.85515590e+00,  2.98420641e+01, -8.34362984e-01,\n",
       "         1.28065424e+00, -3.09731054e+01,  8.57327030e-01,\n",
       "         1.61036575e+00,  2.88882151e+00],\n",
       "       [-3.52797318e-01, -8.34362984e-01,  7.21450866e-02,\n",
       "         1.97440272e-01,  1.10590826e+00,  5.31331716e-01,\n",
       "        -4.99202217e-01, -1.21911777e-01],\n",
       "       [-4.22060165e-01,  1.28065424e+00,  1.97440272e-01,\n",
       "         1.21511860e-01, -1.59422297e+00, -2.01260319e-01,\n",
       "         2.59083424e-02,  3.03969163e-01],\n",
       "       [ 9.58776418e+00, -3.09731054e+01,  1.10590826e+00,\n",
       "        -1.59422297e+00,  3.32098870e+01, -8.20650831e-01,\n",
       "        -1.87520074e+00, -3.14511310e+00],\n",
       "       [-5.61267193e-01,  8.57327030e-01,  5.31331716e-01,\n",
       "        -2.01260319e-01, -8.20650831e-01,  1.16667718e-03,\n",
       "         1.26851370e-01, -5.92000636e-02],\n",
       "       [-7.58561213e-02,  1.61036575e+00, -4.99202217e-01,\n",
       "         2.59083424e-02, -1.87520074e+00,  1.26851370e-01,\n",
       "         3.20374789e-01,  3.10163074e-01],\n",
       "       [-8.94510832e-01,  2.88882151e+00, -1.21911777e-01,\n",
       "         3.03969163e-01, -3.14511310e+00, -5.92000636e-02,\n",
       "         3.10163074e-01,  2.71709670e-01]])"
      ]
     },
     "execution_count": 58,
     "metadata": {},
     "output_type": "execute_result"
    }
   ],
   "source": [
    "# Define Matrix A\n",
    "A = np.array([[1,0.91,0.82,0.75,0.6,0.5,0,0.2],\n",
    "              [0.91,2,0.85,0.8,1.77,0.27,0.32,1.4],\n",
    "              [0.82,0.85,1.5,1.9,0.83,2.1,0.67,1.51],\n",
    "              [0.75,0.8,1.9,1.2,0.97,0.28,0.23,4.5],\n",
    "              [0.6,1.77,0.83,0.97,1.75,0.3,0.89,1.75],\n",
    "              [0.5,0.27,2.1,0.28,0.3,2,2.21,0.79],\n",
    "              [0,0.32,0.67,0.23,0.89,2.21,3,4],\n",
    "              [0.2,1.4,1.51,4.5,1.75,0.79,4,0.96]\n",
    "             ], float)\n",
    "\n",
    "# Define vector b\n",
    "I = np.identity(8, dtype = float)\n",
    "\n",
    "# Solution Using Numpy Library for Verification\n",
    "np.linalg.solve(A, I)"
   ]
  },
  {
   "cell_type": "code",
   "execution_count": 59,
   "id": "d68f4c70",
   "metadata": {},
   "outputs": [
    {
     "data": {
      "text/plain": [
       "array([[ 1.,  0.,  0.,  0.,  0., -0.,  0.,  0.],\n",
       "       [ 0.,  1.,  0.,  0.,  0., -0.,  0.,  0.],\n",
       "       [ 0.,  0.,  1.,  0.,  0., -0.,  0.,  0.],\n",
       "       [ 0.,  0.,  0.,  1.,  0., -0.,  0.,  0.],\n",
       "       [ 0.,  0.,  0.,  0.,  1., -0.,  0.,  0.],\n",
       "       [ 0.,  0.,  0.,  0.,  0.,  1.,  0.,  0.],\n",
       "       [ 0.,  0.,  0.,  0.,  0., -0.,  1.,  0.],\n",
       "       [ 0.,  0.,  0.,  0.,  0., -0.,  0.,  1.]])"
      ]
     },
     "execution_count": 59,
     "metadata": {},
     "output_type": "execute_result"
    }
   ],
   "source": [
    "# Verify\n",
    "ans = np.dot(A,x)\n",
    "ans.round()"
   ]
  }
 ],
 "metadata": {
  "kernelspec": {
   "display_name": "Python 3.8",
   "language": "python",
   "name": "python3"
  },
  "language_info": {
   "codemirror_mode": {
    "name": "ipython",
    "version": 3
   },
   "file_extension": ".py",
   "mimetype": "text/x-python",
   "name": "python",
   "nbconvert_exporter": "python",
   "pygments_lexer": "ipython3",
   "version": "3.8.10"
  }
 },
 "nbformat": 4,
 "nbformat_minor": 5
}
